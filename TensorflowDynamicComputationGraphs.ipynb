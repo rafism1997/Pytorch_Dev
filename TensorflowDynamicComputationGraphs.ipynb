{
 "cells": [
  {
   "cell_type": "code",
   "execution_count": 10,
   "id": "5bf021d0-1931-4ba1-8067-a89a949c0d49",
   "metadata": {},
   "outputs": [],
   "source": [
    "import numpy as np\n",
    "\n",
    "import tensorflow.compat.v1 as tf\n",
    "tf.disable_v2_behavior()"
   ]
  },
  {
   "cell_type": "code",
   "execution_count": 11,
   "id": "b36b8d0a-01cb-490a-a516-f8c785fce8d2",
   "metadata": {},
   "outputs": [],
   "source": [
    "tf.enable_eager_execution()"
   ]
  },
  {
   "cell_type": "code",
   "execution_count": 12,
   "id": "f7f593d0-7d6f-494f-b1f3-f97557427cf8",
   "metadata": {},
   "outputs": [
    {
     "data": {
      "text/plain": [
       "True"
      ]
     },
     "execution_count": 12,
     "metadata": {},
     "output_type": "execute_result"
    }
   ],
   "source": [
    "tf.executing_eagerly()"
   ]
  },
  {
   "cell_type": "code",
   "execution_count": 16,
   "id": "bcea4cf1-3c07-4bb3-b05d-b87b4b07f547",
   "metadata": {},
   "outputs": [],
   "source": [
    "W =tf.Variable(6,name = 'var_W')\n",
    "\n",
    "x = tf.constant([10,10], name ='x')\n",
    "#There is no initial value for a placeholder , the values will be fed in when we execute the\n",
    "#computation graph\n",
    "\n",
    "b = tf.Variable(3,name = 'constant_b')"
   ]
  },
  {
   "cell_type": "code",
   "execution_count": 17,
   "id": "5e83eea7-993c-47b6-9918-dd0bf0bb60d5",
   "metadata": {},
   "outputs": [
    {
     "data": {
      "text/plain": [
       "<tf.Variable 'var_W:0' shape=() dtype=int32, numpy=6>"
      ]
     },
     "execution_count": 17,
     "metadata": {},
     "output_type": "execute_result"
    }
   ],
   "source": [
    "W\n",
    "#initialization happens rightaway in eager execution , the value is shown close to numpy "
   ]
  },
  {
   "cell_type": "code",
   "execution_count": 18,
   "id": "38186b84-a329-4b23-a05f-c4619b170650",
   "metadata": {},
   "outputs": [
    {
     "data": {
      "text/plain": [
       "<tf.Tensor: shape=(2,), dtype=int32, numpy=array([10, 10], dtype=int32)>"
      ]
     },
     "execution_count": 18,
     "metadata": {},
     "output_type": "execute_result"
    }
   ],
   "source": [
    "x"
   ]
  },
  {
   "cell_type": "code",
   "execution_count": 19,
   "id": "b16a6424-958a-49c0-a25a-05ef7405db9c",
   "metadata": {},
   "outputs": [
    {
     "data": {
      "text/plain": [
       "<tf.Variable 'constant_b:0' shape=() dtype=int32, numpy=3>"
      ]
     },
     "execution_count": 19,
     "metadata": {},
     "output_type": "execute_result"
    }
   ],
   "source": [
    "b"
   ]
  },
  {
   "cell_type": "code",
   "execution_count": 20,
   "id": "d5c9872a-e388-44b9-8ffd-6dde3ab6c076",
   "metadata": {},
   "outputs": [],
   "source": [
    "y = W * x +b"
   ]
  },
  {
   "cell_type": "code",
   "execution_count": 21,
   "id": "93a0545a-f8b9-4a73-8e59-589ddfe83df5",
   "metadata": {},
   "outputs": [
    {
     "data": {
      "text/plain": [
       "<tf.Tensor: shape=(2,), dtype=int32, numpy=array([63, 63], dtype=int32)>"
      ]
     },
     "execution_count": 21,
     "metadata": {},
     "output_type": "execute_result"
    }
   ],
   "source": [
    "y\n",
    "# the computation graph is also executed as we defined it "
   ]
  },
  {
   "cell_type": "code",
   "execution_count": 22,
   "id": "a1a20004-a99c-4bbe-b3b8-8fa26f509c65",
   "metadata": {},
   "outputs": [
    {
     "data": {
      "text/plain": [
       "<tf.Tensor: shape=(2,), dtype=int32, numpy=array([60, 60], dtype=int32)>"
      ]
     },
     "execution_count": 22,
     "metadata": {},
     "output_type": "execute_result"
    }
   ],
   "source": [
    "# We can print the intermediate values also \n",
    "W*x"
   ]
  },
  {
   "cell_type": "code",
   "execution_count": 23,
   "id": "f1787e84-11aa-49b6-9839-90eb9d88c415",
   "metadata": {},
   "outputs": [
    {
     "data": {
      "text/plain": [
       "array([60, 60], dtype=int32)"
      ]
     },
     "execution_count": 23,
     "metadata": {},
     "output_type": "execute_result"
    }
   ],
   "source": [
    "# When we are running in eager execution mode in tensorflow , we can also perform NumPy operation on\n",
    "# our tensors\n",
    "\n",
    "np_result = np.multiply(W,x)\n",
    "np_result"
   ]
  },
  {
   "cell_type": "code",
   "execution_count": 24,
   "id": "ee3eae1d-145a-4a87-bd86-b6998a89731d",
   "metadata": {},
   "outputs": [
    {
     "data": {
      "text/plain": [
       "6"
      ]
     },
     "execution_count": 24,
     "metadata": {},
     "output_type": "execute_result"
    }
   ],
   "source": [
    "W.numpy()"
   ]
  },
  {
   "cell_type": "code",
   "execution_count": 25,
   "id": "f800ebb3-8b48-4252-add0-d05e35164e1c",
   "metadata": {},
   "outputs": [
    {
     "data": {
      "text/plain": [
       "array([63, 63], dtype=int32)"
      ]
     },
     "execution_count": 25,
     "metadata": {},
     "output_type": "execute_result"
    }
   ],
   "source": [
    "y.numpy()"
   ]
  },
  {
   "cell_type": "markdown",
   "id": "7a3b72fb-c188-4e4f-9ea7-9630c0a3270c",
   "metadata": {},
   "source": [
    "## Debugging Pytorch is just like debugging Python - can use pdb and breakpoints (unlike in tensorflow)"
   ]
  },
  {
   "cell_type": "code",
   "execution_count": null,
   "id": "0e39b668-b249-4c2a-ae7e-ae7149ccca71",
   "metadata": {},
   "outputs": [],
   "source": []
  }
 ],
 "metadata": {
  "kernelspec": {
   "display_name": "pytorch",
   "language": "python",
   "name": "pytorch"
  },
  "language_info": {
   "codemirror_mode": {
    "name": "ipython",
    "version": 3
   },
   "file_extension": ".py",
   "mimetype": "text/x-python",
   "name": "python",
   "nbconvert_exporter": "python",
   "pygments_lexer": "ipython3",
   "version": "3.9.12"
  }
 },
 "nbformat": 4,
 "nbformat_minor": 5
}
