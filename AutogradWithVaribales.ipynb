{
 "cells": [
  {
   "cell_type": "markdown",
   "id": "e2ac7ed4-13da-40a0-9ced-8a9855413c36",
   "metadata": {},
   "source": [
    "### The Variable API in PyTorch Has been deprecated, Variables are no longer needed to work with autograd and to store gradients"
   ]
  },
  {
   "cell_type": "code",
   "execution_count": 1,
   "id": "e28c8f9f-7c69-4ff9-a422-5306b02d26e1",
   "metadata": {},
   "outputs": [],
   "source": [
    "import  torch \n",
    "\n",
    "from  torch.autograd import Variable"
   ]
  },
  {
   "cell_type": "code",
   "execution_count": 3,
   "id": "a48433b6-da2f-4a3b-bae4-9facf99bb743",
   "metadata": {},
   "outputs": [
    {
     "data": {
      "text/plain": [
       "tensor([9.])"
      ]
     },
     "execution_count": 3,
     "metadata": {},
     "output_type": "execute_result"
    }
   ],
   "source": [
    "var = Variable(torch.FloatTensor([9]))\n",
    "var\n"
   ]
  },
  {
   "cell_type": "code",
   "execution_count": 4,
   "id": "c4bf1575-a136-4218-8faf-18c66074f463",
   "metadata": {},
   "outputs": [
    {
     "data": {
      "text/plain": [
       "tensor([9.], requires_grad=True)"
      ]
     },
     "execution_count": 4,
     "metadata": {},
     "output_type": "execute_result"
    }
   ],
   "source": [
    "var.requires_grad_()"
   ]
  },
  {
   "cell_type": "code",
   "execution_count": 5,
   "id": "fb8ee7bf-95b6-4253-a874-834e7f179eee",
   "metadata": {},
   "outputs": [],
   "source": [
    "var1 = Variable(torch.FloatTensor([3]), requires_grad = True)\n",
    "var2 = Variable(torch.FloatTensor([7]), requires_grad = True)"
   ]
  },
  {
   "cell_type": "code",
   "execution_count": 6,
   "id": "8521917d-ab4f-41a9-a2b8-1fb734c9ff13",
   "metadata": {},
   "outputs": [
    {
     "data": {
      "text/plain": [
       "tensor([3.], requires_grad=True)"
      ]
     },
     "execution_count": 6,
     "metadata": {},
     "output_type": "execute_result"
    }
   ],
   "source": [
    "var1"
   ]
  },
  {
   "cell_type": "code",
   "execution_count": 7,
   "id": "8e0bd297-18ad-4fb8-ac33-651489ff0b47",
   "metadata": {},
   "outputs": [
    {
     "data": {
      "text/plain": [
       "tensor([7.], requires_grad=True)"
      ]
     },
     "execution_count": 7,
     "metadata": {},
     "output_type": "execute_result"
    }
   ],
   "source": [
    "var2"
   ]
  },
  {
   "cell_type": "code",
   "execution_count": 9,
   "id": "5602839f-5fe3-4c9b-8032-2ba25097d8fe",
   "metadata": {},
   "outputs": [
    {
     "data": {
      "text/plain": [
       "tensor([27.], grad_fn=<MulBackward0>)"
      ]
     },
     "execution_count": 9,
     "metadata": {},
     "output_type": "execute_result"
    }
   ],
   "source": [
    "result_var = var * var1\n",
    "\n",
    "result_var"
   ]
  },
  {
   "cell_type": "code",
   "execution_count": 10,
   "id": "d725a77d-e7d9-462f-a7a1-2ad3b1e83263",
   "metadata": {},
   "outputs": [
    {
     "data": {
      "text/plain": [
       "True"
      ]
     },
     "execution_count": 10,
     "metadata": {},
     "output_type": "execute_result"
    }
   ],
   "source": [
    "result_var.requires_grad"
   ]
  },
  {
   "cell_type": "code",
   "execution_count": 11,
   "id": "1bc10c79-9f9a-46a3-b549-fbe0e3000886",
   "metadata": {},
   "outputs": [],
   "source": [
    "result_var.backward()"
   ]
  },
  {
   "cell_type": "code",
   "execution_count": 12,
   "id": "ff27b118-20fc-43e2-8724-b254bce314c7",
   "metadata": {},
   "outputs": [
    {
     "data": {
      "text/plain": [
       "tensor([9.])"
      ]
     },
     "execution_count": 12,
     "metadata": {},
     "output_type": "execute_result"
    }
   ],
   "source": [
    "var1.grad"
   ]
  },
  {
   "cell_type": "code",
   "execution_count": 13,
   "id": "c1a5a282-06f6-4555-b387-d83e1c01e639",
   "metadata": {},
   "outputs": [],
   "source": [
    "var2.grad"
   ]
  },
  {
   "cell_type": "code",
   "execution_count": 14,
   "id": "f51550f3-1615-42d3-92db-2ee90426d42c",
   "metadata": {},
   "outputs": [
    {
     "data": {
      "text/plain": [
       "tensor([3.])"
      ]
     },
     "execution_count": 14,
     "metadata": {},
     "output_type": "execute_result"
    }
   ],
   "source": [
    "var.grad"
   ]
  },
  {
   "cell_type": "code",
   "execution_count": null,
   "id": "8a127b07-5b80-4178-bb8d-0891680e815c",
   "metadata": {},
   "outputs": [],
   "source": []
  }
 ],
 "metadata": {
  "kernelspec": {
   "display_name": "pytorch",
   "language": "python",
   "name": "pytorch"
  },
  "language_info": {
   "codemirror_mode": {
    "name": "ipython",
    "version": 3
   },
   "file_extension": ".py",
   "mimetype": "text/x-python",
   "name": "python",
   "nbconvert_exporter": "python",
   "pygments_lexer": "ipython3",
   "version": "3.9.12"
  }
 },
 "nbformat": 4,
 "nbformat_minor": 5
}
