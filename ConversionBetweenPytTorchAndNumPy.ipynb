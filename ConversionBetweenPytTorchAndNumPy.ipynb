{
 "cells": [
  {
   "cell_type": "markdown",
   "metadata": {
    "colab_type": "text",
    "id": "view-in-github"
   },
   "source": [
    "<a href=\"https://colab.research.google.com/github/rafism1997/Pytorch_Dev/blob/main/ConversionBetweenPytTorchAndNumPy.ipynb\" target=\"_parent\"><img src=\"https://colab.research.google.com/assets/colab-badge.svg\" alt=\"Open In Colab\"/></a>"
   ]
  },
  {
   "cell_type": "code",
   "execution_count": 1,
   "metadata": {
    "id": "MiZse5RfeXeE"
   },
   "outputs": [],
   "source": [
    "import numpy as np \n",
    "import torch\n"
   ]
  },
  {
   "cell_type": "code",
   "execution_count": 2,
   "metadata": {
    "colab": {
     "base_uri": "https://localhost:8080/"
    },
    "id": "9o49p1Wuekus",
    "outputId": "09963f8a-a46a-47f9-a6b8-6f250d152ce3"
   },
   "outputs": [
    {
     "data": {
      "text/plain": [
       "tensor([[0.3969, 0.9246, 0.7501],\n",
       "        [0.9572, 0.7760, 0.8931],\n",
       "        [0.4650, 0.9952, 0.2099],\n",
       "        [0.3044, 0.4373, 0.9906]])"
      ]
     },
     "execution_count": 2,
     "metadata": {},
     "output_type": "execute_result"
    }
   ],
   "source": [
    "tensor = torch.rand(4,3)\n",
    "tensor"
   ]
  },
  {
   "cell_type": "code",
   "execution_count": 3,
   "metadata": {
    "colab": {
     "base_uri": "https://localhost:8080/"
    },
    "id": "p0zYqEkqeply",
    "outputId": "f9880b89-282f-4acc-b4b7-f3a955dd0eb0"
   },
   "outputs": [
    {
     "data": {
      "text/plain": [
       "torch.Tensor"
      ]
     },
     "execution_count": 3,
     "metadata": {},
     "output_type": "execute_result"
    }
   ],
   "source": [
    "type(tensor)"
   ]
  },
  {
   "cell_type": "markdown",
   "metadata": {
    "id": "nXRAYWxjeygw"
   },
   "source": [
    "Torch Tensors are simply NumPy arrays with the ability to be executed on GPU's"
   ]
  },
  {
   "cell_type": "code",
   "execution_count": 4,
   "metadata": {
    "colab": {
     "base_uri": "https://localhost:8080/"
    },
    "id": "Gv-Unndzet6X",
    "outputId": "5c0a3b47-6200-45e7-a16c-38f866d8189b"
   },
   "outputs": [
    {
     "data": {
      "text/plain": [
       "array([[0.39694   , 0.9245714 , 0.7501305 ],\n",
       "       [0.9572164 , 0.7760181 , 0.89307874],\n",
       "       [0.46504718, 0.9951518 , 0.209876  ],\n",
       "       [0.30442643, 0.43727803, 0.99060595]], dtype=float32)"
      ]
     },
     "execution_count": 4,
     "metadata": {},
     "output_type": "execute_result"
    }
   ],
   "source": [
    "# We can access the corresponding numpy array for the tensor by simply calling tensor.numpy\n",
    "numpy_from_tensor = tensor.numpy()\n",
    "numpy_from_tensor"
   ]
  },
  {
   "cell_type": "code",
   "execution_count": 5,
   "metadata": {
    "colab": {
     "base_uri": "https://localhost:8080/"
    },
    "id": "pz8L1o9wfJTD",
    "outputId": "f0463205-8d74-40d4-d0eb-964c3c1d37cf"
   },
   "outputs": [
    {
     "data": {
      "text/plain": [
       "numpy.ndarray"
      ]
     },
     "execution_count": 5,
     "metadata": {},
     "output_type": "execute_result"
    }
   ],
   "source": [
    "type(numpy_from_tensor)"
   ]
  },
  {
   "cell_type": "code",
   "execution_count": 6,
   "metadata": {
    "colab": {
     "base_uri": "https://localhost:8080/"
    },
    "id": "u30MaPmffgmn",
    "outputId": "b590d011-1b5d-4d3f-f87f-01f712c8f07a"
   },
   "outputs": [
    {
     "data": {
      "text/plain": [
       "False"
      ]
     },
     "execution_count": 6,
     "metadata": {},
     "output_type": "execute_result"
    }
   ],
   "source": [
    "torch.is_tensor(numpy_from_tensor)\n",
    "# depicting that numpy_from_tensor is a numpy array"
   ]
  },
  {
   "cell_type": "markdown",
   "metadata": {
    "id": "f1tJ0Lhbfyqb"
   },
   "source": [
    "The NumPy array and PyTorch tensor share the same underlying memory"
   ]
  },
  {
   "cell_type": "code",
   "execution_count": 7,
   "metadata": {
    "colab": {
     "base_uri": "https://localhost:8080/"
    },
    "id": "2zR8oGoSfldG",
    "outputId": "bc2c92f2-6d37-466f-ee5b-302c39e6acbd"
   },
   "outputs": [
    {
     "data": {
      "text/plain": [
       "array([[100.        ,   0.9245714 ,   0.7501305 ],\n",
       "       [  0.9572164 ,   0.7760181 ,   0.89307874],\n",
       "       [  0.46504718,   0.9951518 ,   0.209876  ],\n",
       "       [  0.30442643,   0.43727803,   0.99060595]], dtype=float32)"
      ]
     },
     "execution_count": 7,
     "metadata": {},
     "output_type": "execute_result"
    }
   ],
   "source": [
    "#for example if we are chamging the numpy array, the same will be reflected in the tensor also\n",
    "\n",
    "numpy_from_tensor[0,0] = 100.0\n",
    "numpy_from_tensor"
   ]
  },
  {
   "cell_type": "code",
   "execution_count": 8,
   "metadata": {
    "colab": {
     "base_uri": "https://localhost:8080/"
    },
    "id": "rN58m0l6gL_R",
    "outputId": "8cb3425f-4585-4269-d594-c506b17b99f8"
   },
   "outputs": [
    {
     "data": {
      "text/plain": [
       "tensor([[100.0000,   0.9246,   0.7501],\n",
       "        [  0.9572,   0.7760,   0.8931],\n",
       "        [  0.4650,   0.9952,   0.2099],\n",
       "        [  0.3044,   0.4373,   0.9906]])"
      ]
     },
     "execution_count": 8,
     "metadata": {},
     "output_type": "execute_result"
    }
   ],
   "source": [
    "tensor"
   ]
  },
  {
   "cell_type": "code",
   "execution_count": 9,
   "metadata": {
    "colab": {
     "base_uri": "https://localhost:8080/"
    },
    "id": "L2D9WN2CgPe7",
    "outputId": "a331ef3f-b5ce-49bb-f8b3-6eb1b97a3d24"
   },
   "outputs": [
    {
     "data": {
      "text/plain": [
       "array([[  1.,   2.,   3.],\n",
       "       [ 20.,  30.,  40.],\n",
       "       [200., 300., 800.]])"
      ]
     },
     "execution_count": 9,
     "metadata": {},
     "output_type": "execute_result"
    }
   ],
   "source": [
    "numpy_arr= np.array([[1.0,2.0,3.0],\n",
    "                     [20,30,40],\n",
    "                     [200,300,800]])\n",
    "numpy_arr"
   ]
  },
  {
   "cell_type": "code",
   "execution_count": 10,
   "metadata": {
    "colab": {
     "base_uri": "https://localhost:8080/"
    },
    "id": "OQRBbwG5gmWs",
    "outputId": "1876989b-f769-49c8-fc3b-b00b4db41618"
   },
   "outputs": [
    {
     "data": {
      "text/plain": [
       "tensor([[  1.,   2.,   3.],\n",
       "        [ 20.,  30.,  40.],\n",
       "        [200., 300., 800.]], dtype=torch.float64)"
      ]
     },
     "execution_count": 10,
     "metadata": {},
     "output_type": "execute_result"
    }
   ],
   "source": [
    "tensor_from_numpy= torch.from_numpy(numpy_arr)\n",
    "tensor_from_numpy"
   ]
  },
  {
   "cell_type": "code",
   "execution_count": 11,
   "metadata": {
    "colab": {
     "base_uri": "https://localhost:8080/"
    },
    "id": "GKz0HVJXgvE-",
    "outputId": "7bf75b0b-4119-4fce-ab2e-4d20b538ccf1"
   },
   "outputs": [
    {
     "data": {
      "text/plain": [
       "torch.Tensor"
      ]
     },
     "execution_count": 11,
     "metadata": {},
     "output_type": "execute_result"
    }
   ],
   "source": [
    "type(tensor_from_numpy)"
   ]
  },
  {
   "cell_type": "code",
   "execution_count": 12,
   "metadata": {
    "colab": {
     "base_uri": "https://localhost:8080/"
    },
    "id": "ms9NeVx8g9DY",
    "outputId": "dba08456-f50a-4c01-c330-a4eec5a5ec04"
   },
   "outputs": [
    {
     "data": {
      "text/plain": [
       "tensor([[  1.,   1.,   1.],\n",
       "        [ 20.,  30.,  40.],\n",
       "        [200., 300., 800.]], dtype=torch.float64)"
      ]
     },
     "execution_count": 12,
     "metadata": {},
     "output_type": "execute_result"
    }
   ],
   "source": [
    "tensor_from_numpy[0]=1 # first raw all ones\n",
    "tensor_from_numpy"
   ]
  },
  {
   "cell_type": "code",
   "execution_count": 13,
   "metadata": {
    "colab": {
     "base_uri": "https://localhost:8080/"
    },
    "id": "F65U6SYShPyH",
    "outputId": "7779085c-231a-4599-ab86-acbf4740b74e"
   },
   "outputs": [
    {
     "data": {
      "text/plain": [
       "array([[  1.,   1.,   1.],\n",
       "       [ 20.,  30.,  40.],\n",
       "       [200., 300., 800.]])"
      ]
     },
     "execution_count": 13,
     "metadata": {},
     "output_type": "execute_result"
    }
   ],
   "source": [
    "numpy_arr"
   ]
  },
  {
   "cell_type": "code",
   "execution_count": 14,
   "metadata": {
    "colab": {
     "base_uri": "https://localhost:8080/"
    },
    "id": "HP8_X5SNhTlq",
    "outputId": "5904a088-9757-44f2-97ee-573346728122"
   },
   "outputs": [
    {
     "data": {
      "text/plain": [
       "array([4, 8])"
      ]
     },
     "execution_count": 14,
     "metadata": {},
     "output_type": "execute_result"
    }
   ],
   "source": [
    "np_array_one = np.array([4,8])\n",
    "np_array_one\n"
   ]
  },
  {
   "cell_type": "code",
   "execution_count": 15,
   "metadata": {
    "colab": {
     "base_uri": "https://localhost:8080/"
    },
    "id": "gLpnzmnahgkg",
    "outputId": "2d77fa58-c3b8-4e54-cd8f-214ac3f98edf"
   },
   "outputs": [
    {
     "data": {
      "text/plain": [
       "tensor([4, 8])"
      ]
     },
     "execution_count": 15,
     "metadata": {},
     "output_type": "execute_result"
    }
   ],
   "source": [
    "tensor_from_array_one = torch.as_tensor(np_array_one)\n",
    "tensor_from_array_one\n",
    "# as_tensor function performs a copy if the data is not already a tensor- here since we \n",
    "# are not changing the data type or device the new tensor will just use the same memory"
   ]
  },
  {
   "cell_type": "markdown",
   "metadata": {
    "id": "WMA6S59EiH6D"
   },
   "source": [
    "If the data is already a tensor with the same dtype and device then no copy is performed and a new tensofr is returned with the same computational graph."
   ]
  },
  {
   "cell_type": "code",
   "execution_count": 16,
   "metadata": {
    "colab": {
     "base_uri": "https://localhost:8080/"
    },
    "id": "qE2cLB-Zhpsh",
    "outputId": "cd345a81-c496-454d-a2dc-477682f01c0b"
   },
   "outputs": [
    {
     "data": {
      "text/plain": [
       "array([2, 2])"
      ]
     },
     "execution_count": 16,
     "metadata": {},
     "output_type": "execute_result"
    }
   ],
   "source": [
    "np_array_two = np.array([2,2])\n",
    "np_array_two"
   ]
  },
  {
   "cell_type": "code",
   "execution_count": 17,
   "metadata": {
    "colab": {
     "base_uri": "https://localhost:8080/"
    },
    "id": "btPca4ZfijEC",
    "outputId": "4145a0be-a794-4d81-8efb-56d141989007"
   },
   "outputs": [
    {
     "data": {
      "text/plain": [
       "tensor([2, 2])"
      ]
     },
     "execution_count": 17,
     "metadata": {},
     "output_type": "execute_result"
    }
   ],
   "source": [
    "tensor_from_array_two = torch.tensor(np_array_two)\n",
    "\n",
    "tensor_from_array_two"
   ]
  },
  {
   "cell_type": "code",
   "execution_count": 18,
   "metadata": {
    "colab": {
     "base_uri": "https://localhost:8080/"
    },
    "id": "0_CYy5PYiwld",
    "outputId": "43f84be1-ef2b-4573-a708-438f2a595263"
   },
   "outputs": [
    {
     "data": {
      "text/plain": [
       "array([2, 4])"
      ]
     },
     "execution_count": 18,
     "metadata": {},
     "output_type": "execute_result"
    }
   ],
   "source": [
    "np_array_two[1]=4\n",
    "np_array_two"
   ]
  },
  {
   "cell_type": "code",
   "execution_count": 19,
   "metadata": {
    "colab": {
     "base_uri": "https://localhost:8080/"
    },
    "id": "CmZUNdfIjEGD",
    "outputId": "cbd6354b-f821-47fd-f2a8-e7bf4591b9ad"
   },
   "outputs": [
    {
     "data": {
      "text/plain": [
       "tensor([2, 2])"
      ]
     },
     "execution_count": 19,
     "metadata": {},
     "output_type": "execute_result"
    }
   ],
   "source": [
    "tensor_from_array_two"
   ]
  },
  {
   "cell_type": "code",
   "execution_count": null,
   "metadata": {
    "id": "NRJ9TLBLjNfw"
   },
   "outputs": [],
   "source": []
  }
 ],
 "metadata": {
  "colab": {
   "authorship_tag": "ABX9TyPRCRf0wLh8tTDURloasmYE",
   "include_colab_link": true,
   "name": "ConversionBetweenPytTorchAndNumPy.ipynb",
   "provenance": []
  },
  "kernelspec": {
   "display_name": "Python 3 (ipykernel)",
   "language": "python",
   "name": "python3"
  },
  "language_info": {
   "codemirror_mode": {
    "name": "ipython",
    "version": 3
   },
   "file_extension": ".py",
   "mimetype": "text/x-python",
   "name": "python",
   "nbconvert_exporter": "python",
   "pygments_lexer": "ipython3",
   "version": "3.9.12"
  }
 },
 "nbformat": 4,
 "nbformat_minor": 4
}
