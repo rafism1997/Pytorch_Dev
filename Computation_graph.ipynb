{
 "cells": [
  {
   "cell_type": "markdown",
   "id": "488331cf-a2db-40fb-a4f2-d509dc280b1d",
   "metadata": {},
   "source": [
    "## Directed acyclic graph \n"
   ]
  },
  {
   "cell_type": "markdown",
   "id": "8e5037f3-0025-437b-8014-80abebe498d0",
   "metadata": {},
   "source": [
    "### In a DAG, tensors actually hold data and the other nodes and functions that mutate tensors and perform operations on them are the edges."
   ]
  },
  {
   "cell_type": "markdown",
   "id": "67b64d0c-d55d-4a26-9ed6-8fb4aa9e3acb",
   "metadata": {},
   "source": [
    "### Pytorch computation  graphs are dynamic\n",
    "### The graph is defined as it is executed"
   ]
  },
  {
   "cell_type": "markdown",
   "id": "2ad951fb-b263-41d1-b28f-4e3f282e3863",
   "metadata": {},
   "source": [
    "### Tensorflow  - Follows static comuptaion graphs that follow symbolic programming of Neural Networks :\n",
    "### There is a distinct build phase and execute phase \n"
   ]
  },
  {
   "cell_type": "markdown",
   "id": "9736ab32-b6af-45e6-83cb-f84a6b1df2e7",
   "metadata": {},
   "source": [
    "### Pytorch follows dynamic computation graph"
   ]
  },
  {
   "cell_type": "markdown",
   "id": "cb86159f-d3fe-4354-b58d-249ac30fd31e",
   "metadata": {},
   "source": [
    "### **Symbolic Programming** \n",
    "\n",
    "* First define operations, then execute \n",
    "* Define functions,no actual computation takes place \n",
    "* Computation explicitily compiled before evaluation\n",
    "* First define computation, then run\n",
    "* Computation defined using placeholders\n",
    "* Compuation explicitly compiled before evaluation \n",
    "\n",
    "* Tensorflow uses Define then run procedure\n",
    "* Explicit compile step\n",
    "* Compilation converts the graph into executable format \n",
    "\n",
    "* Harder to program and debug\n",
    "* Less flexible - harder to experiment \n",
    "* More restricted,computation graph only show final results.\n",
    "* More efficient - easier to optimize\n",
    "\n",
    "\n",
    "* e.g Java , C++"
   ]
  },
  {
   "cell_type": "markdown",
   "id": "e07b5814-6584-4465-b7ad-459e4e9035c4",
   "metadata": {},
   "source": [
    "### **Imperative Programming**\n",
    "\n",
    "* Execution performed as operations defined\n",
    "* Code actually executed as the function is defined \n",
    "* No explicit compilation step before evaluation\n",
    "* Computations run as they are defined\n",
    "* Computation directly performed on real operands \n",
    "* No explicit compilation step before evaluation \n",
    "\n",
    "* Pytorch follows Define by run procedure\n",
    "* Graph already in executable format\n",
    "* More flexible - easier to experiment \n",
    "* Less efficient - harder to optimize\n",
    "\n",
    "\n",
    "* e.g Python"
   ]
  },
  {
   "cell_type": "code",
   "execution_count": null,
   "id": "ce9a2ab9-6cd0-4f88-bdfe-2554c6e4b2ea",
   "metadata": {},
   "outputs": [],
   "source": []
  }
 ],
 "metadata": {
  "kernelspec": {
   "display_name": "pytorch",
   "language": "python",
   "name": "pytorch"
  },
  "language_info": {
   "codemirror_mode": {
    "name": "ipython",
    "version": 3
   },
   "file_extension": ".py",
   "mimetype": "text/x-python",
   "name": "python",
   "nbconvert_exporter": "python",
   "pygments_lexer": "ipython3",
   "version": "3.9.12"
  }
 },
 "nbformat": 4,
 "nbformat_minor": 5
}
