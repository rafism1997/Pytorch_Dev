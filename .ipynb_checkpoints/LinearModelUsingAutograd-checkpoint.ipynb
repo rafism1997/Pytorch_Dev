{
 "cells": [
  {
   "cell_type": "markdown",
   "id": "e8af3d84-1096-44d4-988e-7753dedc6e3b",
   "metadata": {},
   "source": [
    "import numpy as np\n",
    "import matplotlib.pyplot as plt"
   ]
  },
  {
   "cell_type": "code",
   "execution_count": 3,
   "id": "1e54dbab-be0e-481a-a973-37b6aa67e818",
   "metadata": {},
   "outputs": [],
   "source": [
    "x_train = np.array([[4.7],[2.4],[7.5],[7.1],[4.3],[7.816],\n",
    "                    [8.9],[5.2],[8.59],[2.1],[8],\n",
    "                    [10],[4.5],[6],[4]],\n",
    "                   dtype = np.float32)\n",
    "\n",
    "y_train = np.array([[2.6],[1.6],[3.09],[2.4],[2.4],[3.3567],\n",
    "                    [2.6],[1.96],[3.53],[1.76],[3.2],\n",
    "                    [3.5],[1.6],[2.5],[2.2]],\n",
    "                   dtype = np.float32)"
   ]
  },
  {
   "cell_type": "markdown",
   "id": "672fcbc3-5548-45cc-bff7-7d6ca603b83e",
   "metadata": {},
   "source": [
    "plt.figure(figsize=(12,8))\n",
    "\n",
    "plt.scatter(x_train,y_train, label ='Original data',s=250, c='g')\n",
    "\n",
    "plt.legend()\n",
    "plt.show()"
   ]
  },
  {
   "cell_type": "code",
   "execution_count": 5,
   "id": "448f01fe-3c4d-465d-a781-6c7cdc3f7df2",
   "metadata": {},
   "outputs": [],
   "source": [
    "import torch"
   ]
  },
  {
   "cell_type": "code",
   "execution_count": 7,
   "id": "b6b76d5f-3305-430a-9da9-4b2c56e90bd1",
   "metadata": {},
   "outputs": [
    {
     "name": "stdout",
     "output_type": "stream",
     "text": [
      "requires_grad_for X_train:  False\n",
      "requires_grad_for Y_train:  False\n"
     ]
    }
   ],
   "source": [
    "X_train = torch.from_numpy(x_train)\n",
    "Y_train = torch.from_numpy(y_train)\n",
    "\n",
    "print('requires_grad_for X_train: ', X_train.requires_grad)\n",
    "print('requires_grad_for Y_train: ', Y_train.requires_grad)"
   ]
  },
  {
   "cell_type": "markdown",
   "id": "eb1f1678-b883-41d6-843b-018fa3c64b4e",
   "metadata": {},
   "source": [
    "### Since we have just one neuron and we have just one x , we will have "
   ]
  },
  {
   "cell_type": "code",
   "execution_count": 8,
   "id": "97620547-a074-4a39-b5c2-01d8734b440d",
   "metadata": {},
   "outputs": [],
   "source": [
    "input_size=1\n",
    "hidden_size=1\n",
    "output_size=1"
   ]
  },
  {
   "cell_type": "code",
   "execution_count": 10,
   "id": "1aa2e512-f71f-4a5e-8dbb-0c67a7619796",
   "metadata": {},
   "outputs": [
    {
     "data": {
      "text/plain": [
       "torch.Size([1, 1])"
      ]
     },
     "execution_count": 10,
     "metadata": {},
     "output_type": "execute_result"
    }
   ],
   "source": [
    "# w1 contains the weights for the input to our neural network\n",
    "\n",
    "w1 = torch.rand(input_size,\n",
    "                hidden_size,\n",
    "                \n",
    "                requires_grad=True)\n",
    "w1.shape"
   ]
  },
  {
   "cell_type": "code",
   "execution_count": 11,
   "id": "0dd511d1-a723-437f-9b7c-f65b49caf43b",
   "metadata": {},
   "outputs": [
    {
     "data": {
      "text/plain": [
       "torch.Size([1, 1])"
      ]
     },
     "execution_count": 11,
     "metadata": {},
     "output_type": "execute_result"
    }
   ],
   "source": [
    "# w2 is the weight which corresponds to the connection between the hidden layer and the final output\n",
    "w2 = torch.rand(input_size,\n",
    "                output_size,\n",
    "                \n",
    "                requires_grad=True)\n",
    "w2.shape"
   ]
  },
  {
   "cell_type": "code",
   "execution_count": 12,
   "id": "cc28d6c2-6fde-43a3-912c-15a13f02a7ab",
   "metadata": {},
   "outputs": [],
   "source": [
    "# Design hyperparamter\n",
    "\n",
    "learning_rate = 1e-6\n"
   ]
  },
  {
   "cell_type": "code",
   "execution_count": 44,
   "id": "cfbf80d2-7bb4-4aa7-b275-481316d31608",
   "metadata": {},
   "outputs": [
    {
     "name": "stdout",
     "output_type": "stream",
     "text": [
      "50 4.089203357696533\n",
      "100 4.089203357696533\n",
      "150 4.089203357696533\n",
      "200 4.089203357696533\n",
      "250 4.089203357696533\n",
      "300 4.089203357696533\n",
      "350 4.089203357696533\n",
      "400 4.089203357696533\n",
      "450 4.089203357696533\n",
      "500 4.089203357696533\n",
      "550 4.089203357696533\n",
      "600 4.089203357696533\n",
      "650 4.089203357696533\n",
      "700 4.089203357696533\n",
      "750 4.089203357696533\n",
      "800 4.089203357696533\n",
      "850 4.089203357696533\n",
      "900 4.089203357696533\n",
      "950 4.089203357696533\n",
      "1000 4.089203357696533\n",
      "1050 4.089203357696533\n",
      "1100 4.089203357696533\n",
      "1150 4.089203357696533\n",
      "1200 4.089203357696533\n",
      "1250 4.089203357696533\n",
      "1300 4.089203357696533\n",
      "1350 4.089203357696533\n",
      "1400 4.089203357696533\n",
      "1450 4.089203357696533\n",
      "1500 4.089203357696533\n",
      "1550 4.089203357696533\n",
      "1600 4.089203357696533\n",
      "1650 4.089203357696533\n",
      "1700 4.089203357696533\n",
      "1750 4.089203357696533\n",
      "1800 4.089203357696533\n",
      "1850 4.089203357696533\n",
      "1900 4.089203357696533\n",
      "1950 4.089203357696533\n",
      "2000 4.089203357696533\n",
      "2050 4.089203357696533\n",
      "2100 4.089203357696533\n",
      "2150 4.089203357696533\n",
      "2200 4.089203357696533\n",
      "2250 4.089203357696533\n",
      "2300 4.089203357696533\n",
      "2350 4.089203357696533\n",
      "2400 4.089203357696533\n",
      "2450 4.089203357696533\n",
      "2500 4.089203357696533\n",
      "2550 4.089203357696533\n",
      "2600 4.089203357696533\n",
      "2650 4.089203357696533\n",
      "2700 4.089203357696533\n",
      "2750 4.089203357696533\n",
      "2800 4.089203357696533\n",
      "2850 4.089203357696533\n",
      "2900 4.089203357696533\n",
      "2950 4.089203357696533\n",
      "3000 4.089203357696533\n",
      "3050 4.089203357696533\n",
      "3100 4.089203357696533\n",
      "3150 4.089203357696533\n",
      "3200 4.089203357696533\n",
      "3250 4.089203357696533\n",
      "3300 4.089203357696533\n",
      "3350 4.089203357696533\n",
      "3400 4.089203357696533\n",
      "3450 4.089203357696533\n",
      "3500 4.089203357696533\n",
      "3550 4.089203357696533\n",
      "3600 4.089203357696533\n",
      "3650 4.089203357696533\n",
      "3700 4.089203357696533\n",
      "3750 4.089203357696533\n",
      "3800 4.089203357696533\n",
      "3850 4.089203357696533\n",
      "3900 4.089203357696533\n",
      "3950 4.089203357696533\n",
      "4000 4.089203357696533\n",
      "4050 4.089203357696533\n",
      "4100 4.089203357696533\n",
      "4150 4.089203357696533\n",
      "4200 4.089203357696533\n",
      "4250 4.089203357696533\n",
      "4300 4.089203357696533\n",
      "4350 4.089203357696533\n",
      "4400 4.089203357696533\n",
      "4450 4.089203357696533\n",
      "4500 4.089203357696533\n",
      "4550 4.089203357696533\n",
      "4600 4.089203357696533\n",
      "4650 4.089203357696533\n",
      "4700 4.089203357696533\n",
      "4750 4.089203357696533\n",
      "4800 4.089203357696533\n",
      "4850 4.089203357696533\n",
      "4900 4.089203357696533\n",
      "4950 4.089203357696533\n",
      "5000 4.089203357696533\n",
      "5050 4.089203357696533\n",
      "5100 4.089203357696533\n",
      "5150 4.089203357696533\n",
      "5200 4.089203357696533\n",
      "5250 4.089203357696533\n",
      "5300 4.089203357696533\n",
      "5350 4.089203357696533\n",
      "5400 4.089203357696533\n",
      "5450 4.089203357696533\n",
      "5500 4.089203357696533\n",
      "5550 4.089203357696533\n",
      "5600 4.089203357696533\n",
      "5650 4.089203357696533\n",
      "5700 4.089203357696533\n",
      "5750 4.089203357696533\n",
      "5800 4.089203357696533\n",
      "5850 4.089203357696533\n",
      "5900 4.089203357696533\n",
      "5950 4.089203357696533\n"
     ]
    }
   ],
   "source": [
    "for iter in range(1,6000):\n",
    "    \n",
    "    y_pred = X_train.mm(w1).mm(w2)\n",
    "    # Perform a forward pass through the the neural network constructed using a single linear\n",
    "    # neuron with no activation function\n",
    "    loss = (y_pred - Y_train).pow(2).sum()\n",
    "    \n",
    "    if iter % 50 ==0:\n",
    "        print(iter, loss.item())\n",
    "        \n",
    "    loss.backward()\n",
    "    \n",
    "    with torch.no_grad():\n",
    "        w1 -= learning_rate * w1.grad\n",
    "        w2 -= learning_rate * w2.grad\n",
    "        w1.grad.zero_()\n",
    "        w2.grad.zero_()"
   ]
  },
  {
   "cell_type": "code",
   "execution_count": 45,
   "id": "577ee45b-e225-4dee-a502-625ac2255b2e",
   "metadata": {},
   "outputs": [
    {
     "name": "stdout",
     "output_type": "stream",
     "text": [
      "w1:  tensor([[0.9205]], requires_grad=True)\n",
      "w2:  tensor([[0.4309]], requires_grad=True)\n"
     ]
    }
   ],
   "source": [
    "print('w1: ', w1)\n",
    "print('w2: ', w2)"
   ]
  },
  {
   "cell_type": "code",
   "execution_count": 46,
   "id": "f3cdd45a-0e15-46fe-b01a-d3c2d3713bb6",
   "metadata": {},
   "outputs": [
    {
     "data": {
      "text/plain": [
       "tensor([[ 4.7000],\n",
       "        [ 2.4000],\n",
       "        [ 7.5000],\n",
       "        [ 7.1000],\n",
       "        [ 4.3000],\n",
       "        [ 7.8160],\n",
       "        [ 8.9000],\n",
       "        [ 5.2000],\n",
       "        [ 8.5900],\n",
       "        [ 2.1000],\n",
       "        [ 8.0000],\n",
       "        [10.0000],\n",
       "        [ 4.5000],\n",
       "        [ 6.0000],\n",
       "        [ 4.0000]])"
      ]
     },
     "execution_count": 46,
     "metadata": {},
     "output_type": "execute_result"
    }
   ],
   "source": [
    "x_train_tensor = torch.from_numpy(x_train)\n",
    "\n",
    "x_train_tensor"
   ]
  },
  {
   "cell_type": "code",
   "execution_count": 47,
   "id": "940b6670-b66e-49fd-a7a2-f5c7e2e6efb2",
   "metadata": {},
   "outputs": [
    {
     "data": {
      "text/plain": [
       "tensor([[1.8641],\n",
       "        [0.9519],\n",
       "        [2.9747],\n",
       "        [2.8160],\n",
       "        [1.7055],\n",
       "        [3.1000],\n",
       "        [3.5300],\n",
       "        [2.0625],\n",
       "        [3.4070],\n",
       "        [0.8329],\n",
       "        [3.1730],\n",
       "        [3.9663],\n",
       "        [1.7848],\n",
       "        [2.3798],\n",
       "        [1.5865]], grad_fn=<MmBackward0>)"
      ]
     },
     "execution_count": 47,
     "metadata": {},
     "output_type": "execute_result"
    }
   ],
   "source": [
    "predicted_in_tensor = x_train_tensor.mm(w1).mm(w2)\n",
    "predicted_in_tensor"
   ]
  },
  {
   "cell_type": "code",
   "execution_count": 48,
   "id": "5e0a98eb-ada6-4c66-b407-be9624154c6f",
   "metadata": {},
   "outputs": [
    {
     "data": {
      "text/plain": [
       "array([[1.8641435 ],\n",
       "       [0.95190316],\n",
       "       [2.974697  ],\n",
       "       [2.8160465 ],\n",
       "       [1.7054931 ],\n",
       "       [3.100031  ],\n",
       "       [3.529974  ],\n",
       "       [2.0624566 ],\n",
       "       [3.4070199 ],\n",
       "       [0.8329151 ],\n",
       "       [3.1730103 ],\n",
       "       [3.9662628 ],\n",
       "       [1.7848183 ],\n",
       "       [2.3797576 ],\n",
       "       [1.5865052 ]], dtype=float32)"
      ]
     },
     "execution_count": 48,
     "metadata": {},
     "output_type": "execute_result"
    }
   ],
   "source": [
    "predicted = predicted_in_tensor.detach().numpy()\n",
    "predicted"
   ]
  },
  {
   "cell_type": "code",
   "execution_count": 49,
   "id": "085e3c24-8d17-49ab-9a5d-b6e5a1df0052",
   "metadata": {},
   "outputs": [
    {
     "data": {
      "image/png": "[encoded data removed]",
      "text/plain": [
       "<Figure size 864x576 with 1 Axes>"
      ]
     },
     "metadata": {
      "needs_background": "light"
     },
     "output_type": "display_data"
    }
   ],
   "source": [
    "plt.figure(figsize=(12,8))\n",
    "\n",
    "plt.scatter(x_train,y_train, label ='Original data',s=250, c='g')\n",
    "\n",
    "plt.plot(x_train,predicted,label = ' Fitted line ')\n",
    "\n",
    "plt.legend()\n",
    "plt.show()"
   ]
  }
 ],
 "metadata": {
  "kernelspec": {
   "display_name": "pytorch",
   "language": "python",
   "name": "pytorch"
  },
  "language_info": {
   "codemirror_mode": {
    "name": "ipython",
    "version": 3
   },
   "file_extension": ".py",
   "mimetype": "text/x-python",
   "name": "python",
   "nbconvert_exporter": "python",
   "pygments_lexer": "ipython3",
   "version": "3.9.12"
  }
 },
 "nbformat": 4,
 "nbformat_minor": 5
}
