{
 "cells": [
  {
   "cell_type": "code",
   "execution_count": 2,
   "id": "d587a49d-38f0-4055-a379-26341b293cd8",
   "metadata": {},
   "outputs": [],
   "source": [
    "import torch "
   ]
  },
  {
   "cell_type": "code",
   "execution_count": 3,
   "id": "8270437a-6089-485e-a445-21946d4ab5b0",
   "metadata": {},
   "outputs": [
    {
     "data": {
      "text/plain": [
       "tensor([[1., 2., 3.],\n",
       "        [5., 6., 7.]])"
      ]
     },
     "execution_count": 3,
     "metadata": {},
     "output_type": "execute_result"
    }
   ],
   "source": [
    "tensor1 = torch.Tensor([[1,2,3],\n",
    "                       [5,6,7]])\n",
    "tensor1"
   ]
  },
  {
   "cell_type": "code",
   "execution_count": 4,
   "id": "9ca0e091-97fc-45c9-83db-e9b47514a9a6",
   "metadata": {},
   "outputs": [
    {
     "data": {
      "text/plain": [
       "tensor([[ 9., 10.,  3.],\n",
       "        [12., 13.,  7.]])"
      ]
     },
     "execution_count": 4,
     "metadata": {},
     "output_type": "execute_result"
    }
   ],
   "source": [
    "tensor2 = torch.Tensor([[9,10,3],\n",
    "                       [12,13,7]])\n",
    "tensor2"
   ]
  },
  {
   "cell_type": "code",
   "execution_count": 5,
   "id": "65e038d9-6e7a-4a1f-94fe-6cc7970ea681",
   "metadata": {},
   "outputs": [
    {
     "data": {
      "text/plain": [
       "False"
      ]
     },
     "execution_count": 5,
     "metadata": {},
     "output_type": "execute_result"
    }
   ],
   "source": [
    "#When the value for the below function is true , pytorch will track computations for a tensor in the forward phas and will calculate gradients for this tensor in the backward phase\n",
    "tensor1.requires_grad\n"
   ]
  },
  {
   "cell_type": "code",
   "execution_count": 6,
   "id": "a8241062-3307-4b77-b5b6-4c6b9cf1b3d2",
   "metadata": {},
   "outputs": [
    {
     "data": {
      "text/plain": [
       "False"
      ]
     },
     "execution_count": 6,
     "metadata": {},
     "output_type": "execute_result"
    }
   ],
   "source": [
    "tensor2.requires_grad"
   ]
  },
  {
   "cell_type": "markdown",
   "id": "278507f1-d031-4270-a019-1ffe76cb6a84",
   "metadata": {},
   "source": [
    "To Enable tracking history for a particular tensor we cal call the requires_grad_() function"
   ]
  },
  {
   "cell_type": "code",
   "execution_count": 7,
   "id": "f26f7d68-7ba4-4f09-8fb3-bad65a59c7cc",
   "metadata": {},
   "outputs": [
    {
     "data": {
      "text/plain": [
       "tensor([[1., 2., 3.],\n",
       "        [5., 6., 7.]], requires_grad=True)"
      ]
     },
     "execution_count": 7,
     "metadata": {},
     "output_type": "execute_result"
    }
   ],
   "source": [
    "tensor1.requires_grad_()\n"
   ]
  },
  {
   "cell_type": "code",
   "execution_count": 8,
   "id": "73b03ecc-9ed8-4194-830a-e51fd3c83f44",
   "metadata": {},
   "outputs": [
    {
     "data": {
      "text/plain": [
       "False"
      ]
     },
     "execution_count": 8,
     "metadata": {},
     "output_type": "execute_result"
    }
   ],
   "source": [
    "tensor2.requires_grad"
   ]
  },
  {
   "cell_type": "code",
   "execution_count": 9,
   "id": "37217fb9-3863-45e9-bb58-151fa91c17f2",
   "metadata": {},
   "outputs": [
    {
     "data": {
      "text/plain": [
       "True"
      ]
     },
     "execution_count": 9,
     "metadata": {},
     "output_type": "execute_result"
    }
   ],
   "source": [
    "tensor1.requires_grad\n"
   ]
  },
  {
   "cell_type": "code",
   "execution_count": 10,
   "id": "08163d7e-851c-447b-a5fd-b5d04ab33702",
   "metadata": {},
   "outputs": [
    {
     "data": {
      "text/plain": [
       "tensor([[ 9., 10.,  3.],\n",
       "        [12., 13.,  7.]], requires_grad=True)"
      ]
     },
     "execution_count": 10,
     "metadata": {},
     "output_type": "execute_result"
    }
   ],
   "source": [
    "tensor2.requires_grad_()"
   ]
  },
  {
   "cell_type": "markdown",
   "id": "2d03202b-f72e-44a2-a717-58577620c39d",
   "metadata": {},
   "source": [
    "No gradients are available yet- this is part of a computation graph but no forward or backward passes have been made"
   ]
  },
  {
   "cell_type": "code",
   "execution_count": 11,
   "id": "064bc722-ea4e-4e5d-b65e-a0d61e54f2cb",
   "metadata": {},
   "outputs": [
    {
     "name": "stdout",
     "output_type": "stream",
     "text": [
      "None\n"
     ]
    }
   ],
   "source": [
    "print(tensor1.grad)"
   ]
  },
  {
   "cell_type": "markdown",
   "id": "0513e33a-23b7-41f0-b2ee-6a00b125ea82",
   "metadata": {},
   "source": [
    "The computation graph in pytorch is made up of tensors and function"
   ]
  },
  {
   "cell_type": "markdown",
   "id": "2a8a6eaa-d0cf-412e-b60c-a915c6d4bdbc",
   "metadata": {},
   "source": [
    "Tensors are nodes in the graph and functions are the transformations performed along edges "
   ]
  },
  {
   "cell_type": "code",
   "execution_count": 12,
   "id": "67f554e0-ad66-4d28-9af8-bbcf1eabefd6",
   "metadata": {},
   "outputs": [
    {
     "name": "stdout",
     "output_type": "stream",
     "text": [
      "None\n"
     ]
    }
   ],
   "source": [
    "print(tensor1.grad_fn)"
   ]
  },
  {
   "cell_type": "code",
   "execution_count": 13,
   "id": "f3ad4c72-a312-425a-a181-3d19db419194",
   "metadata": {},
   "outputs": [],
   "source": [
    "output_tensor = tensor1 * tensor2"
   ]
  },
  {
   "cell_type": "code",
   "execution_count": 14,
   "id": "6e745905-233d-4496-8d5a-f79b922e4c1f",
   "metadata": {},
   "outputs": [
    {
     "data": {
      "text/plain": [
       "True"
      ]
     },
     "execution_count": 14,
     "metadata": {},
     "output_type": "execute_result"
    }
   ],
   "source": [
    "output_tensor.requires_grad"
   ]
  },
  {
   "cell_type": "code",
   "execution_count": 15,
   "id": "d3745903-1097-4f02-8c61-743c38043549",
   "metadata": {},
   "outputs": [
    {
     "name": "stdout",
     "output_type": "stream",
     "text": [
      "<MulBackward0 object at 0x7f89136b8d30>\n"
     ]
    }
   ],
   "source": [
    "print(output_tensor.grad_fn)"
   ]
  },
  {
   "cell_type": "markdown",
   "id": "8f1d521e-9ab3-474e-acf7-789500468715",
   "metadata": {},
   "source": [
    "MulBackward is the grad function used here . Neither tensor1 nor tensor2 have grad functions associated with it."
   ]
  },
  {
   "cell_type": "code",
   "execution_count": 16,
   "id": "1ac4ef94-4f74-402d-a4fd-a7f275fc271c",
   "metadata": {},
   "outputs": [
    {
     "name": "stdout",
     "output_type": "stream",
     "text": [
      "None\n"
     ]
    }
   ],
   "source": [
    "print(tensor1.grad_fn)"
   ]
  },
  {
   "cell_type": "code",
   "execution_count": 17,
   "id": "448c4a6b-7346-45a9-ae43-fb4abcf48e97",
   "metadata": {},
   "outputs": [
    {
     "name": "stdout",
     "output_type": "stream",
     "text": [
      "None\n"
     ]
    }
   ],
   "source": [
    "print(tensor2.grad_fn)"
   ]
  },
  {
   "cell_type": "code",
   "execution_count": 18,
   "id": "9371f48f-47d5-4f26-b97b-98402e8781b4",
   "metadata": {},
   "outputs": [
    {
     "name": "stdout",
     "output_type": "stream",
     "text": [
      "<MeanBackward0 object at 0x7f89c44f01f0>\n"
     ]
    }
   ],
   "source": [
    "output_tensor = (tensor1 * tensor2).mean()\n",
    "print(output_tensor.grad_fn)"
   ]
  },
  {
   "cell_type": "markdown",
   "id": "409c5125-0951-46e8-8315-c4a3d3bc0ccf",
   "metadata": {},
   "source": [
    "The gradient of the partial derivative will only be calculated when we call the backward() function"
   ]
  },
  {
   "cell_type": "code",
   "execution_count": 19,
   "id": "56bf7be8-2a20-42d5-9e9f-d4c6e31c63af",
   "metadata": {},
   "outputs": [],
   "source": [
    "output_tensor.backward()"
   ]
  },
  {
   "cell_type": "code",
   "execution_count": 20,
   "id": "1a3f23bb-71de-4b1b-a0ae-7ed94ae3a7a8",
   "metadata": {},
   "outputs": [
    {
     "name": "stdout",
     "output_type": "stream",
     "text": [
      "tensor([[1.5000, 1.6667, 0.5000],\n",
      "        [2.0000, 2.1667, 1.1667]])\n"
     ]
    }
   ],
   "source": [
    "print(tensor1.grad)"
   ]
  },
  {
   "cell_type": "markdown",
   "id": "3a7e19e9-367e-4d88-b545-fb7cc009bec3",
   "metadata": {},
   "source": [
    "These gradients here are the partial derivative for the parameters in tensor1 calculated with reference to the output tensor"
   ]
  },
  {
   "cell_type": "markdown",
   "id": "4d1e47a9-fb5f-4ff6-9bc5-d195725c6fe6",
   "metadata": {},
   "source": [
    "Since gradients are partial derivatives with respect to every value inside the tensor, the shape of the gradient will be similar to that of the tensor"
   ]
  },
  {
   "cell_type": "code",
   "execution_count": 21,
   "id": "f79725c8-0919-450c-a3eb-4d1cec232b25",
   "metadata": {},
   "outputs": [
    {
     "data": {
      "text/plain": [
       "(torch.Size([2, 3]), torch.Size([2, 3]))"
      ]
     },
     "execution_count": 21,
     "metadata": {},
     "output_type": "execute_result"
    }
   ],
   "source": [
    "tensor1.grad.shape , tensor1.shape"
   ]
  },
  {
   "cell_type": "code",
   "execution_count": 23,
   "id": "81382c40-a2a4-4f71-b61d-b14849af2f54",
   "metadata": {},
   "outputs": [
    {
     "name": "stdout",
     "output_type": "stream",
     "text": [
      "None\n"
     ]
    },
    {
     "name": "stderr",
     "output_type": "stream",
     "text": [
      "/home/rafistark/anaconda3/envs/pytorch/lib/python3.9/site-packages/torch/_tensor.py:1083: UserWarning: The .grad attribute of a Tensor that is not a leaf Tensor is being accessed. Its .grad attribute won't be populated during autograd.backward(). If you indeed want the .grad field to be populated for a non-leaf Tensor, use .retain_grad() on the non-leaf Tensor. If you access the non-leaf Tensor by mistake, make sure you access the leaf Tensor instead. See github.com/pytorch/pytorch/pull/30531 for more informations. (Triggered internally at  /opt/conda/conda-bld/pytorch_1659484806139/work/build/aten/src/ATen/core/TensorBody.h:477.)\n",
      "  return self._grad\n"
     ]
    }
   ],
   "source": [
    "print(output_tensor.grad)\n",
    "# No output value since this is the value wth respect to which the gradients where calculated."
   ]
  },
  {
   "cell_type": "code",
   "execution_count": 25,
   "id": "9e80736c-0a7f-448d-80e5-c07969405265",
   "metadata": {},
   "outputs": [
    {
     "name": "stdout",
     "output_type": "stream",
     "text": [
      "True\n"
     ]
    }
   ],
   "source": [
    "new_tens = tensor1 * 3\n",
    "print(new_tens.requires_grad)"
   ]
  },
  {
   "cell_type": "code",
   "execution_count": 26,
   "id": "fe0a1cb2-f044-4c93-a22c-d601c7213a1f",
   "metadata": {},
   "outputs": [
    {
     "data": {
      "text/plain": [
       "tensor([[ 3.,  6.,  9.],\n",
       "        [15., 18., 21.]], grad_fn=<MulBackward0>)"
      ]
     },
     "execution_count": 26,
     "metadata": {},
     "output_type": "execute_result"
    }
   ],
   "source": [
    "new_tens"
   ]
  },
  {
   "cell_type": "markdown",
   "id": "0ccb29c8-0b22-4a17-8412-ccc5fc0a7d1c",
   "metadata": {},
   "source": [
    "Stop autograd from tracking history on Tensors with requires_grad=True"
   ]
  },
  {
   "cell_type": "code",
   "execution_count": 27,
   "id": "df5deeda-45a5-47b6-b64d-b8e024f02f17",
   "metadata": {},
   "outputs": [
    {
     "name": "stdout",
     "output_type": "stream",
     "text": [
      "new tensor =  tensor([[ 3.,  6.,  9.],\n",
      "        [15., 18., 21.]])\n",
      "requires_grad for tensor =  True\n",
      "requires_grad for tensor =  True\n",
      "requires_grad for new_tensor =  False\n"
     ]
    }
   ],
   "source": [
    "with torch.no_grad():\n",
    "    new_tens = tensor1 * 3\n",
    "    \n",
    "    print('new tensor = ',new_tens)\n",
    "    \n",
    "    print('requires_grad for tensor = ',tensor1.requires_grad)\n",
    "    \n",
    "    print('requires_grad for tensor = ', tensor2.requires_grad)\n",
    "    \n",
    "    print('requires_grad for new_tensor = ' , new_tens.requires_grad)"
   ]
  },
  {
   "cell_type": "code",
   "execution_count": 28,
   "id": "6a0b1e50-54e6-4d8c-80f3-e19bebcd9f68",
   "metadata": {},
   "outputs": [],
   "source": [
    "def calculate(t):\n",
    "    return t * 2 \n"
   ]
  },
  {
   "cell_type": "code",
   "execution_count": 39,
   "id": "50b6f407-56c9-47de-b24b-01f99f979578",
   "metadata": {},
   "outputs": [],
   "source": [
    "@torch.no_grad()\n",
    "def calculate_with_no_grad(t):\n",
    "    return t * 2"
   ]
  },
  {
   "cell_type": "code",
   "execution_count": 40,
   "id": "26994ead-252d-4996-92f7-2257883008b3",
   "metadata": {},
   "outputs": [
    {
     "data": {
      "text/plain": [
       "tensor([[ 2.,  4.,  6.],\n",
       "        [10., 12., 14.]], grad_fn=<MulBackward0>)"
      ]
     },
     "execution_count": 40,
     "metadata": {},
     "output_type": "execute_result"
    }
   ],
   "source": [
    "result_tensor = calculate(tensor1)\n",
    "result_tensor"
   ]
  },
  {
   "cell_type": "code",
   "execution_count": 41,
   "id": "a0754e2d-de72-4be4-ad21-0e5c6cd36063",
   "metadata": {},
   "outputs": [
    {
     "data": {
      "text/plain": [
       "True"
      ]
     },
     "execution_count": 41,
     "metadata": {},
     "output_type": "execute_result"
    }
   ],
   "source": [
    "result_tensor.requires_grad"
   ]
  },
  {
   "cell_type": "code",
   "execution_count": 42,
   "id": "5ed74259-d63b-471f-b517-23424011a06c",
   "metadata": {},
   "outputs": [
    {
     "data": {
      "text/plain": [
       "tensor([[ 2.,  4.,  6.],\n",
       "        [10., 12., 14.]])"
      ]
     },
     "execution_count": 42,
     "metadata": {},
     "output_type": "execute_result"
    }
   ],
   "source": [
    "result_tensor_no_grad = calculate_with_no_grad(tensor1)\n",
    "result_tensor_no_grad"
   ]
  },
  {
   "cell_type": "code",
   "execution_count": 43,
   "id": "18bfc704-b4fd-4da5-a354-197c3aa3b8ee",
   "metadata": {},
   "outputs": [
    {
     "data": {
      "text/plain": [
       "False"
      ]
     },
     "execution_count": 43,
     "metadata": {},
     "output_type": "execute_result"
    }
   ],
   "source": [
    "result_tensor_no_grad.requires_grad"
   ]
  },
  {
   "cell_type": "markdown",
   "id": "15131332-29af-41c0-a27c-9b82ee114db0",
   "metadata": {},
   "source": [
    "DECORATORS "
   ]
  },
  {
   "cell_type": "code",
   "execution_count": 47,
   "id": "6e8951bd-fdd6-4cc0-b1be-ac2670d1f026",
   "metadata": {},
   "outputs": [
    {
     "name": "stdout",
     "output_type": "stream",
     "text": [
      "Executing printer function\n",
      "Hello , World!\n",
      "Finished Execution\n"
     ]
    }
   ],
   "source": [
    "def display_info(func):\n",
    "    def inner():\n",
    "        print(\"Executing\",func.__name__,\"function\")\n",
    "        func()\n",
    "        print(\"Finished Execution\")\n",
    "    return inner\n",
    "@display_info\n",
    "\n",
    "def printer():\n",
    "    print(\"Hello , World!\")\n",
    "    \n",
    "printer()\n",
    "\n",
    "#Adding the @symbol means that we are passing that function as an argument to the decorator function \n",
    "#and reassigning the function to the return function\n",
    "# display_info is the decorator function and we pass the printer function to it and reassign the printer function to the \n",
    "#returned inner function "
   ]
  },
  {
   "cell_type": "code",
   "execution_count": 49,
   "id": "09a39d8e-3063-4741-abb0-af254d11f425",
   "metadata": {},
   "outputs": [
    {
     "name": "stdout",
     "output_type": "stream",
     "text": [
      "new_tensor_no_grad =  tensor([[ 3.,  6.,  9.],\n",
      "        [15., 18., 21.]])\n",
      "new_tensor_no_grad=  tensor([[ 3.,  6.,  9.],\n",
      "        [15., 18., 21.]], grad_fn=<MulBackward0>)\n"
     ]
    }
   ],
   "source": [
    " with torch.no_grad():\n",
    "        \n",
    "        new_tensor_no_grad = tensor1 * 3\n",
    "        \n",
    "        print('new_tensor_no_grad = ',new_tensor_no_grad)\n",
    "        \n",
    "        with torch.enable_grad():\n",
    "            new_tensor_no_grad = tensor1 * 3\n",
    "            \n",
    "            print('new_tensor_no_grad= ',new_tensor_no_grad)"
   ]
  },
  {
   "cell_type": "code",
   "execution_count": 52,
   "id": "2977d366-2a9d-4beb-bf10-ea1d6f396810",
   "metadata": {},
   "outputs": [
    {
     "data": {
      "text/plain": [
       "tensor([[1., 2.],\n",
       "        [3., 4.]], requires_grad=True)"
      ]
     },
     "execution_count": 52,
     "metadata": {},
     "output_type": "execute_result"
    }
   ],
   "source": [
    "tensor_one = torch.tensor([[1.0,2.0],\n",
    "                          [3.0,4.0]],requires_grad=True)\n",
    "tensor_one"
   ]
  },
  {
   "cell_type": "code",
   "execution_count": 54,
   "id": "e9392541-b7c1-44b9-825c-9e122e73b40e",
   "metadata": {},
   "outputs": [
    {
     "data": {
      "text/plain": [
       "tensor([[5., 6.],\n",
       "        [7., 8.]])"
      ]
     },
     "execution_count": 54,
     "metadata": {},
     "output_type": "execute_result"
    }
   ],
   "source": [
    "tensor_two = torch.tensor([[5.0,6.0],\n",
    "                          [7.0,8.0]])\n",
    "tensor_two"
   ]
  },
  {
   "cell_type": "code",
   "execution_count": 55,
   "id": "06e935ec-e8f9-46ee-a1c4-759148068796",
   "metadata": {},
   "outputs": [
    {
     "data": {
      "text/plain": [
       "False"
      ]
     },
     "execution_count": 55,
     "metadata": {},
     "output_type": "execute_result"
    }
   ],
   "source": [
    "tensor_two.requires_grad"
   ]
  },
  {
   "cell_type": "code",
   "execution_count": 56,
   "id": "d8266f80-962f-4de9-8259-6be0c7d2eb01",
   "metadata": {},
   "outputs": [
    {
     "data": {
      "text/plain": [
       "tensor([[5., 6.],\n",
       "        [7., 8.]], requires_grad=True)"
      ]
     },
     "execution_count": 56,
     "metadata": {},
     "output_type": "execute_result"
    }
   ],
   "source": [
    "tensor_two.requires_grad_()"
   ]
  },
  {
   "cell_type": "code",
   "execution_count": 57,
   "id": "5492c3a4-d306-4e73-9414-479f8c4a08a9",
   "metadata": {},
   "outputs": [
    {
     "data": {
      "text/plain": [
       "tensor(9., grad_fn=<MeanBackward0>)"
      ]
     },
     "execution_count": 57,
     "metadata": {},
     "output_type": "execute_result"
    }
   ],
   "source": [
    "final_tensor = (tensor_one + tensor_two).mean()\n",
    "final_tensor\n"
   ]
  },
  {
   "cell_type": "code",
   "execution_count": 58,
   "id": "d9468aad-8801-47c4-ac09-105eaed6b54c",
   "metadata": {},
   "outputs": [
    {
     "data": {
      "text/plain": [
       "True"
      ]
     },
     "execution_count": 58,
     "metadata": {},
     "output_type": "execute_result"
    }
   ],
   "source": [
    "final_tensor.requires_grad"
   ]
  },
  {
   "cell_type": "code",
   "execution_count": 59,
   "id": "4f90e0cc-0094-4dfc-a47a-d0c9f01df04b",
   "metadata": {},
   "outputs": [
    {
     "name": "stdout",
     "output_type": "stream",
     "text": [
      "None\n"
     ]
    }
   ],
   "source": [
    "print(tensor_one.grad)"
   ]
  },
  {
   "cell_type": "code",
   "execution_count": 60,
   "id": "6a9240e0-1b9f-426b-8ebd-5149bce63d0f",
   "metadata": {},
   "outputs": [
    {
     "name": "stdout",
     "output_type": "stream",
     "text": [
      "None\n"
     ]
    }
   ],
   "source": [
    "print(tensor_two.grad)"
   ]
  },
  {
   "cell_type": "markdown",
   "id": "18b8dbd5-7d29-453b-9181-bcfff01b1583",
   "metadata": {},
   "source": [
    "#### We have only performed forward pass on our tensors right now, so there will be no gradients associated with the tensors .\n",
    "\n",
    "#### We will have history tracking enabled when we call final_tensor.backward()"
   ]
  },
  {
   "cell_type": "code",
   "execution_count": 62,
   "id": "62c8e8d2-e2c4-46a9-bd20-27fd8733bc95",
   "metadata": {},
   "outputs": [],
   "source": [
    "final_tensor.backward()"
   ]
  },
  {
   "cell_type": "code",
   "execution_count": 63,
   "id": "475b04e7-9cd3-46ce-bb6c-9c6aafc466e0",
   "metadata": {},
   "outputs": [
    {
     "name": "stdout",
     "output_type": "stream",
     "text": [
      "tensor([[0.2500, 0.2500],\n",
      "        [0.2500, 0.2500]])\n"
     ]
    }
   ],
   "source": [
    "print(tensor_one.grad)\n"
   ]
  },
  {
   "cell_type": "code",
   "execution_count": 64,
   "id": "89e183d2-480f-4c9a-8559-e6e2815addf2",
   "metadata": {},
   "outputs": [
    {
     "name": "stdout",
     "output_type": "stream",
     "text": [
      "tensor([[0.2500, 0.2500],\n",
      "        [0.2500, 0.2500]])\n"
     ]
    }
   ],
   "source": [
    "print(tensor_two.grad)"
   ]
  },
  {
   "cell_type": "markdown",
   "id": "ed60596e-c03b-4dcd-9145-83a282455ab9",
   "metadata": {},
   "source": [
    "#### If we want a new tensor detached from the current computation graph - will always have requires_grad = False "
   ]
  },
  {
   "cell_type": "code",
   "execution_count": 65,
   "id": "df9dee74-5021-4b78-9b7e-e7122af538e2",
   "metadata": {},
   "outputs": [
    {
     "data": {
      "text/plain": [
       "tensor([[1., 2.],\n",
       "        [3., 4.]])"
      ]
     },
     "execution_count": 65,
     "metadata": {},
     "output_type": "execute_result"
    }
   ],
   "source": [
    "detached_tensor = tensor_one.detach()\n",
    "\n",
    "detached_tensor"
   ]
  },
  {
   "cell_type": "code",
   "execution_count": 66,
   "id": "534fb0f1-ae83-449a-9110-dd53f502c4a5",
   "metadata": {},
   "outputs": [
    {
     "data": {
      "text/plain": [
       "tensor([[1., 2.],\n",
       "        [3., 4.]], requires_grad=True)"
      ]
     },
     "execution_count": 66,
     "metadata": {},
     "output_type": "execute_result"
    }
   ],
   "source": [
    "tensor_one"
   ]
  },
  {
   "cell_type": "code",
   "execution_count": 67,
   "id": "c78dcaf7-244b-4105-9bad-4704f8fd0768",
   "metadata": {},
   "outputs": [],
   "source": [
    "mean_tensor = (tensor_one + detached_tensor).mean()\n",
    "\n",
    "mean_tensor.backward()"
   ]
  },
  {
   "cell_type": "code",
   "execution_count": 68,
   "id": "aceb831e-9fb4-4beb-bc9b-3c2068001efd",
   "metadata": {},
   "outputs": [
    {
     "data": {
      "text/plain": [
       "tensor([[0.5000, 0.5000],\n",
       "        [0.5000, 0.5000]])"
      ]
     },
     "execution_count": 68,
     "metadata": {},
     "output_type": "execute_result"
    }
   ],
   "source": [
    "tensor_one.grad"
   ]
  },
  {
   "cell_type": "code",
   "execution_count": 69,
   "id": "7f9d7fd2-1b35-44f1-a083-060c7c64b36e",
   "metadata": {},
   "outputs": [
    {
     "name": "stdout",
     "output_type": "stream",
     "text": [
      "None\n"
     ]
    }
   ],
   "source": [
    "print(detached_tensor.grad)"
   ]
  },
  {
   "cell_type": "code",
   "execution_count": null,
   "id": "1c92ff53-b101-4fe0-ad67-043e0194f5ae",
   "metadata": {},
   "outputs": [],
   "source": []
  }
 ],
 "metadata": {
  "kernelspec": {
   "display_name": "pytorch",
   "language": "python",
   "name": "pytorch"
  },
  "language_info": {
   "codemirror_mode": {
    "name": "ipython",
    "version": 3
   },
   "file_extension": ".py",
   "mimetype": "text/x-python",
   "name": "python",
   "nbconvert_exporter": "python",
   "pygments_lexer": "ipython3",
   "version": "3.9.12"
  }
 },
 "nbformat": 4,
 "nbformat_minor": 5
}
