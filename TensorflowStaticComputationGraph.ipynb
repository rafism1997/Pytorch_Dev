{
 "cells": [
  {
   "cell_type": "code",
   "execution_count": 6,
   "id": "60b8aafd-a744-45e2-b8b4-d83fe215cf69",
   "metadata": {},
   "outputs": [
    {
     "name": "stdout",
     "output_type": "stream",
     "text": [
      "WARNING:tensorflow:From /home/rafistark/anaconda3/envs/pytorch/lib/python3.9/site-packages/tensorflow/python/compat/v2_compat.py:107: disable_resource_variables (from tensorflow.python.ops.variable_scope) is deprecated and will be removed in a future version.\n",
      "Instructions for updating:\n",
      "non-resource variables are not supported in the long term\n"
     ]
    }
   ],
   "source": [
    "import tensorflow.compat.v1 as tf\n",
    "tf.disable_v2_behavior()"
   ]
  },
  {
   "cell_type": "code",
   "execution_count": 9,
   "id": "2d5136a8-ede0-4cb4-977b-a07425805ba9",
   "metadata": {},
   "outputs": [],
   "source": [
    "W =tf.Variable(6,name = 'var_W')\n",
    "\n",
    "x = tf.placeholder(tf.int32,shape =[3] , name ='x')\n",
    "#There is no initial value for a placeholder , the values will be fed in when we execute the\n",
    "#computation graph\n",
    "\n",
    "b = tf.constant(3,name = 'constant_b')"
   ]
  },
  {
   "cell_type": "code",
   "execution_count": 10,
   "id": "95da75fa-3dfe-436c-8478-86e17be5a151",
   "metadata": {},
   "outputs": [
    {
     "data": {
      "text/plain": [
       "<tf.Variable 'var_W_2:0' shape=() dtype=int32_ref>"
      ]
     },
     "execution_count": 10,
     "metadata": {},
     "output_type": "execute_result"
    }
   ],
   "source": [
    "W"
   ]
  },
  {
   "cell_type": "markdown",
   "id": "2608d6ba-7fbd-4b27-8ba5-af0608efd0fe",
   "metadata": {},
   "source": [
    "#### The static computation graph doesn't assign the contents to Tensorflow until you execute the graph."
   ]
  },
  {
   "cell_type": "code",
   "execution_count": 11,
   "id": "c5b016d0-4c3b-4a4d-baeb-b9e56086fba9",
   "metadata": {},
   "outputs": [
    {
     "data": {
      "text/plain": [
       "<tf.Tensor 'x_2:0' shape=(3,) dtype=int32>"
      ]
     },
     "execution_count": 11,
     "metadata": {},
     "output_type": "execute_result"
    }
   ],
   "source": [
    "x"
   ]
  },
  {
   "cell_type": "code",
   "execution_count": 12,
   "id": "b7cca6c4-9848-4db8-9c7a-df542cc0780c",
   "metadata": {},
   "outputs": [
    {
     "data": {
      "text/plain": [
       "<tf.Tensor 'constant_b_1:0' shape=() dtype=int32>"
      ]
     },
     "execution_count": 12,
     "metadata": {},
     "output_type": "execute_result"
    }
   ],
   "source": [
    "b"
   ]
  },
  {
   "cell_type": "code",
   "execution_count": 13,
   "id": "52e6846f-7240-4c58-a640-b3405e7ef9a5",
   "metadata": {},
   "outputs": [],
   "source": [
    "y = W*x +b"
   ]
  },
  {
   "cell_type": "code",
   "execution_count": 15,
   "id": "78f9cc3a-7883-4637-a1f5-8063680d3761",
   "metadata": {},
   "outputs": [
    {
     "data": {
      "text/plain": [
       "<tf.Tensor 'add:0' shape=(3,) dtype=int32>"
      ]
     },
     "execution_count": 15,
     "metadata": {},
     "output_type": "execute_result"
    }
   ],
   "source": [
    "y\n",
    "#y has no values "
   ]
  },
  {
   "cell_type": "code",
   "execution_count": 16,
   "id": "b8424700-3cdc-4a52-b2ac-6bf730addb16",
   "metadata": {},
   "outputs": [],
   "source": [
    "init = tf.global_variables_initializer()"
   ]
  },
  {
   "cell_type": "code",
   "execution_count": 17,
   "id": "5b0a75a9-ad1b-4b68-81a5-1a721e040a71",
   "metadata": {},
   "outputs": [
    {
     "name": "stdout",
     "output_type": "stream",
     "text": [
      "Wx+b =  [ 63 123 183]\n"
     ]
    },
    {
     "name": "stderr",
     "output_type": "stream",
     "text": [
      "2022-08-27 09:01:01.067542: I tensorflow/core/common_runtime/process_util.cc:146] Creating new thread pool with default inter op setting: 2. Tune using inter_op_parallelism_threads for best performance.\n"
     ]
    }
   ],
   "source": [
    "#Instantiate a session to establish a  bridge between the client program \n",
    "# and the c++ runtime used to execute Tensorflow programs \n",
    "\n",
    "\n",
    "with tf.Session() as sess:\n",
    "    sess.run(init)\n",
    "    \n",
    "    y_result =sess.run(y, feed_dict = {x:[10,20,30]})\n",
    "    \n",
    "    print(\"Wx+b = \",y_result)"
   ]
  },
  {
   "cell_type": "code",
   "execution_count": 19,
   "id": "20b62911-bceb-4688-a596-5d553ca378ca",
   "metadata": {},
   "outputs": [],
   "source": [
    "writer = tf.summary.FileWriter('./graphs',sess.graph)\n",
    "#This can be used to write out graph nodes and edges out to a file"
   ]
  },
  {
   "cell_type": "code",
   "execution_count": 20,
   "id": "b2d0fe31-be4d-435f-9195-9310008b81f3",
   "metadata": {},
   "outputs": [],
   "source": [
    "writer.close()"
   ]
  },
  {
   "cell_type": "code",
   "execution_count": 21,
   "id": "7f4373c5-6c38-4fbc-8322-b0679356cf31",
   "metadata": {},
   "outputs": [],
   "source": [
    "graph = tf.get_default_graph()"
   ]
  },
  {
   "cell_type": "code",
   "execution_count": 22,
   "id": "753818ac-b34c-44d7-89ff-41d29aecbec8",
   "metadata": {},
   "outputs": [
    {
     "ename": "NameError",
     "evalue": "name 'printQ' is not defined",
     "output_type": "error",
     "traceback": [
      "\u001b[0;31m---------------------------------------------------------------------------\u001b[0m",
      "\u001b[0;31mNameError\u001b[0m                                 Traceback (most recent call last)",
      "Input \u001b[0;32mIn [22]\u001b[0m, in \u001b[0;36m<cell line: 1>\u001b[0;34m()\u001b[0m\n\u001b[0;32m----> 1\u001b[0m \u001b[43mprintQ\u001b[49m(graph\u001b[38;5;241m.\u001b[39mget_operations())\n",
      "\u001b[0;31mNameError\u001b[0m: name 'printQ' is not defined"
     ]
    }
   ],
   "source": [
    "printQ(graph.get_operations())"
   ]
  },
  {
   "cell_type": "code",
   "execution_count": null,
   "id": "af090fac-fb41-44bf-8c06-941a7bf5b1a9",
   "metadata": {},
   "outputs": [],
   "source": []
  }
 ],
 "metadata": {
  "kernelspec": {
   "display_name": "pytorch",
   "language": "python",
   "name": "pytorch"
  },
  "language_info": {
   "codemirror_mode": {
    "name": "ipython",
    "version": 3
   },
   "file_extension": ".py",
   "mimetype": "text/x-python",
   "name": "python",
   "nbconvert_exporter": "python",
   "pygments_lexer": "ipython3",
   "version": "3.9.12"
  }
 },
 "nbformat": 4,
 "nbformat_minor": 5
}
