{
 "cells": [
  {
   "cell_type": "code",
   "execution_count": 27,
   "id": "7c4b7d9b-fecb-4833-9728-b779fbb836b6",
   "metadata": {},
   "outputs": [],
   "source": [
    "import numpy as np \n",
    "import torch \n",
    "import torch.nn as nn "
   ]
  },
  {
   "cell_type": "code",
   "execution_count": null,
   "id": "7d021e4c-203a-48d7-b69b-7be754e0ea79",
   "metadata": {},
   "outputs": [],
   "source": []
  },
  {
   "cell_type": "code",
   "execution_count": 28,
   "id": "ba24877d-f600-4dae-a5ae-363c362df9a7",
   "metadata": {},
   "outputs": [],
   "source": [
    "W = torch.randn(6)#Weight\n",
    "\n",
    "x= torch.tensor([10.0,10.0,10.0,10.0,10.0,10.0])\n",
    "\n",
    "b=torch.tensor(3)# bias"
   ]
  },
  {
   "cell_type": "code",
   "execution_count": 29,
   "id": "22dd52c2-68db-4155-b416-735a2619ac99",
   "metadata": {},
   "outputs": [
    {
     "data": {
      "text/plain": [
       "tensor([-1.1712,  1.1991, -0.6785,  1.0100, -1.9383,  0.5521])"
      ]
     },
     "execution_count": 29,
     "metadata": {},
     "output_type": "execute_result"
    }
   ],
   "source": [
    "W"
   ]
  },
  {
   "cell_type": "code",
   "execution_count": 30,
   "id": "ed34ebf5-71b2-457c-940e-abf10315fcbe",
   "metadata": {},
   "outputs": [],
   "source": [
    "y = W*x + b"
   ]
  },
  {
   "cell_type": "code",
   "execution_count": 31,
   "id": "d2fad0bd-d55f-4bdd-9a0d-6c8b2e8f7c9e",
   "metadata": {},
   "outputs": [
    {
     "data": {
      "text/plain": [
       "tensor([-1.1712,  1.1991, -0.6785,  1.0100, -1.9383,  0.5521])"
      ]
     },
     "execution_count": 31,
     "metadata": {},
     "output_type": "execute_result"
    }
   ],
   "source": [
    "W"
   ]
  },
  {
   "cell_type": "code",
   "execution_count": 32,
   "id": "bd1412ff-d330-402a-bb91-525bcbb60ec5",
   "metadata": {},
   "outputs": [
    {
     "data": {
      "text/plain": [
       "tensor([ -8.7115,  14.9908,  -3.7848,  13.1002, -16.3830,   8.5206])"
      ]
     },
     "execution_count": 32,
     "metadata": {},
     "output_type": "execute_result"
    }
   ],
   "source": [
    "y"
   ]
  },
  {
   "cell_type": "code",
   "execution_count": 33,
   "id": "2fed2477-d3bf-462e-9bf6-3e90b643c8bc",
   "metadata": {},
   "outputs": [
    {
     "data": {
      "text/plain": [
       "tensor([-11.7115,  11.9908,  -6.7848,  10.1002, -19.3830,   5.5206])"
      ]
     },
     "execution_count": 33,
     "metadata": {},
     "output_type": "execute_result"
    }
   ],
   "source": [
    "W*x"
   ]
  },
  {
   "cell_type": "code",
   "execution_count": 34,
   "id": "84f42315-7e33-4372-9736-a2cf09837f40",
   "metadata": {},
   "outputs": [
    {
     "data": {
      "text/plain": [
       "tensor(3)"
      ]
     },
     "execution_count": 34,
     "metadata": {},
     "output_type": "execute_result"
    }
   ],
   "source": [
    "b"
   ]
  },
  {
   "cell_type": "code",
   "execution_count": 35,
   "id": "0949c30e-e9e2-40a4-a297-86ce6b92a6f3",
   "metadata": {},
   "outputs": [],
   "source": [
    "W1 =torch.tensor(6)\n",
    "W2 =torch.tensor(6)\n",
    "W3 =torch.tensor(6)\n",
    "\n",
    "x1 = torch.tensor([2,2,2])\n",
    "x2 = torch.tensor([3,3,3])\n",
    "x3 = torch.tensor([4,4,4])\n",
    "\n",
    "b = torch.tensor(10)"
   ]
  },
  {
   "cell_type": "code",
   "execution_count": 36,
   "id": "74e66f60-29f8-4b18-a3f5-656309dc82c7",
   "metadata": {},
   "outputs": [
    {
     "data": {
      "text/plain": [
       "(tensor(6), tensor(6), tensor(6))"
      ]
     },
     "execution_count": 36,
     "metadata": {},
     "output_type": "execute_result"
    }
   ],
   "source": [
    "W1,W2,W3"
   ]
  },
  {
   "cell_type": "code",
   "execution_count": 37,
   "id": "73d89cec-1aaf-4bd2-9703-7167cb35e815",
   "metadata": {},
   "outputs": [
    {
     "data": {
      "text/plain": [
       "tensor([30, 30, 30])"
      ]
     },
     "execution_count": 37,
     "metadata": {},
     "output_type": "execute_result"
    }
   ],
   "source": [
    "intermediate_value = W1 *x1 + W2 * x2\n",
    "intermediate_value"
   ]
  },
  {
   "cell_type": "code",
   "execution_count": 38,
   "id": "861ffba4-4044-4cec-9f4d-a7bf8ea85e96",
   "metadata": {},
   "outputs": [
    {
     "data": {
      "text/plain": [
       "tensor([64, 64, 64])"
      ]
     },
     "execution_count": 38,
     "metadata": {},
     "output_type": "execute_result"
    }
   ],
   "source": [
    "final_value = W1 * x1 + W2 * x2 + W3 * x3 +b  \n",
    "final_value "
   ]
  },
  {
   "cell_type": "code",
   "execution_count": 39,
   "id": "139d94f0-cd70-4c1b-87ec-539b20bf6b05",
   "metadata": {},
   "outputs": [],
   "source": [
    "import hiddenlayer as hl "
   ]
  },
  {
   "cell_type": "code",
   "execution_count": 48,
   "id": "4f5db0b0-d8ea-49d7-b7cc-7819a5ae28ba",
   "metadata": {},
   "outputs": [],
   "source": [
    "x_train = np.array([[4.7],[2.4],[7.5],[7.1],[4.3],[7.816],\n",
    "                    [8.9],[5.2],[8.59],[2.1]],\n",
    "                   dtype = np.float32)\n",
    "\n",
    "y_train = np.array([[2.6],[1.6],[3.09],[2.4],[2.4],[3.3567],\n",
    "                    [2.6],[1.96],[3.53],[1.76]],\n",
    "                   dtype = np.float32)"
   ]
  },
  {
   "cell_type": "code",
   "execution_count": 53,
   "id": "b13fba7e-6218-4720-9f70-1cb19c50def4",
   "metadata": {},
   "outputs": [
    {
     "data": {
      "text/plain": [
       "torch.Size([10, 1])"
      ]
     },
     "execution_count": 53,
     "metadata": {},
     "output_type": "execute_result"
    }
   ],
   "source": [
    "X_train =torch.tensor(x_train)\n",
    "\n",
    "Y_train = torch.tensor(y_train)\n",
    "\n",
    "X_train.shape"
   ]
  },
  {
   "cell_type": "code",
   "execution_count": 54,
   "id": "b2aa099f-0f92-4bd8-8297-6b7339bf5341",
   "metadata": {},
   "outputs": [],
   "source": [
    "inp = 1\n",
    "\n",
    "out = 1\n",
    "\n",
    "hid =100\n"
   ]
  },
  {
   "cell_type": "code",
   "execution_count": 55,
   "id": "020985ed-deea-4bf6-b30a-038c1f701bb8",
   "metadata": {},
   "outputs": [],
   "source": [
    "#Simple sequential network with 2 linear layers.\n",
    "model1 = torch.nn.Sequential(torch.nn.Linear(inp, hid),\n",
    "                             torch.nn.Linear(hid, out))"
   ]
  },
  {
   "cell_type": "code",
   "execution_count": 59,
   "id": "3d1ce8b0-fc5b-4cbd-a358-69a6b81ce2aa",
   "metadata": {},
   "outputs": [
    {
     "ename": "TypeError",
     "evalue": "_jit_pass_onnx_unpack_quantized_weights(): incompatible function arguments. The following argument types are supported:\n    1. (arg0: torch::jit::Graph, arg1: Dict[str, IValue], arg2: bool) -> Dict[str, IValue]\n\nInvoked with: graph(%0 : Float(10, 1, strides=[1, 1], requires_grad=0, device=cpu),\n      %1 : Float(100, 1, strides=[1, 1], requires_grad=1, device=cpu),\n      %2 : Float(100, strides=[1], requires_grad=1, device=cpu),\n      %3 : Float(1, 100, strides=[100, 1], requires_grad=1, device=cpu),\n      %4 : Float(1, strides=[1], requires_grad=1, device=cpu)):\n  %15 : Float(10, 100, strides=[100, 1], requires_grad=1, device=cpu) = aten::linear(%0, %1, %2) # /home/rafistark/anaconda3/envs/pytorch/lib/python3.9/site-packages/torch/nn/modules/linear.py:114:0\n  %16 : Float(10, 1, strides=[1, 1], requires_grad=1, device=cpu) = aten::linear(%15, %3, %4) # /home/rafistark/anaconda3/envs/pytorch/lib/python3.9/site-packages/torch/nn/modules/linear.py:114:0\n  return (%16)\n, None, False",
     "output_type": "error",
     "traceback": [
      "\u001b[0;31m---------------------------------------------------------------------------\u001b[0m",
      "\u001b[0;31mTypeError\u001b[0m                                 Traceback (most recent call last)",
      "Input \u001b[0;32mIn [59]\u001b[0m, in \u001b[0;36m<cell line: 2>\u001b[0;34m()\u001b[0m\n\u001b[1;32m      1\u001b[0m \u001b[38;5;66;03m# We pass in 10 data points and there is 1 feature for each data point\u001b[39;00m\n\u001b[0;32m----> 2\u001b[0m \u001b[43mhl\u001b[49m\u001b[38;5;241;43m.\u001b[39;49m\u001b[43mbuild_graph\u001b[49m\u001b[43m(\u001b[49m\u001b[43mmodel1\u001b[49m\u001b[43m,\u001b[49m\u001b[43mtorch\u001b[49m\u001b[38;5;241;43m.\u001b[39;49m\u001b[43mzeros\u001b[49m\u001b[43m(\u001b[49m\u001b[43m[\u001b[49m\u001b[38;5;241;43m10\u001b[39;49m\u001b[43m,\u001b[49m\u001b[38;5;241;43m1\u001b[39;49m\u001b[43m]\u001b[49m\u001b[43m)\u001b[49m\u001b[43m)\u001b[49m\n",
      "File \u001b[0;32m~/anaconda3/envs/pytorch/lib/python3.9/site-packages/hiddenlayer/graph.py:143\u001b[0m, in \u001b[0;36mbuild_graph\u001b[0;34m(model, args, input_names, transforms, framework_transforms)\u001b[0m\n\u001b[1;32m    141\u001b[0m     \u001b[38;5;28;01mfrom\u001b[39;00m \u001b[38;5;21;01m.\u001b[39;00m\u001b[38;5;21;01mpytorch_builder\u001b[39;00m \u001b[38;5;28;01mimport\u001b[39;00m import_graph, FRAMEWORK_TRANSFORMS\n\u001b[1;32m    142\u001b[0m     \u001b[38;5;28;01massert\u001b[39;00m args \u001b[38;5;129;01mis\u001b[39;00m \u001b[38;5;129;01mnot\u001b[39;00m \u001b[38;5;28;01mNone\u001b[39;00m, \u001b[38;5;124m\"\u001b[39m\u001b[38;5;124mArgument args must be provided for Pytorch models.\u001b[39m\u001b[38;5;124m\"\u001b[39m\n\u001b[0;32m--> 143\u001b[0m     \u001b[43mimport_graph\u001b[49m\u001b[43m(\u001b[49m\u001b[43mg\u001b[49m\u001b[43m,\u001b[49m\u001b[43m \u001b[49m\u001b[43mmodel\u001b[49m\u001b[43m,\u001b[49m\u001b[43m \u001b[49m\u001b[43margs\u001b[49m\u001b[43m)\u001b[49m\n\u001b[1;32m    144\u001b[0m \u001b[38;5;28;01melif\u001b[39;00m framework \u001b[38;5;241m==\u001b[39m \u001b[38;5;124m\"\u001b[39m\u001b[38;5;124mtensorflow\u001b[39m\u001b[38;5;124m\"\u001b[39m:\n\u001b[1;32m    145\u001b[0m     \u001b[38;5;28;01mfrom\u001b[39;00m \u001b[38;5;21;01m.\u001b[39;00m\u001b[38;5;21;01mtf_builder\u001b[39;00m \u001b[38;5;28;01mimport\u001b[39;00m import_graph, FRAMEWORK_TRANSFORMS\n",
      "File \u001b[0;32m~/anaconda3/envs/pytorch/lib/python3.9/site-packages/hiddenlayer/pytorch_builder.py:71\u001b[0m, in \u001b[0;36mimport_graph\u001b[0;34m(hl_graph, model, args, input_names, verbose)\u001b[0m\n\u001b[1;32m     66\u001b[0m \u001b[38;5;28;01mdef\u001b[39;00m \u001b[38;5;21mimport_graph\u001b[39m(hl_graph, model, args, input_names\u001b[38;5;241m=\u001b[39m\u001b[38;5;28;01mNone\u001b[39;00m, verbose\u001b[38;5;241m=\u001b[39m\u001b[38;5;28;01mFalse\u001b[39;00m):\n\u001b[1;32m     67\u001b[0m     \u001b[38;5;66;03m# TODO: add input names to graph\u001b[39;00m\n\u001b[1;32m     68\u001b[0m \n\u001b[1;32m     69\u001b[0m     \u001b[38;5;66;03m# Run the Pytorch graph to get a trace and generate a graph from it\u001b[39;00m\n\u001b[1;32m     70\u001b[0m     trace, out \u001b[38;5;241m=\u001b[39m torch\u001b[38;5;241m.\u001b[39mjit\u001b[38;5;241m.\u001b[39m_get_trace_graph(model, args)\n\u001b[0;32m---> 71\u001b[0m     torch_graph \u001b[38;5;241m=\u001b[39m \u001b[43mtorch\u001b[49m\u001b[38;5;241;43m.\u001b[39;49m\u001b[43monnx\u001b[49m\u001b[38;5;241;43m.\u001b[39;49m\u001b[43m_optimize_trace\u001b[49m\u001b[43m(\u001b[49m\u001b[43mtrace\u001b[49m\u001b[43m,\u001b[49m\u001b[43m \u001b[49m\u001b[43mtorch\u001b[49m\u001b[38;5;241;43m.\u001b[39;49m\u001b[43monnx\u001b[49m\u001b[38;5;241;43m.\u001b[39;49m\u001b[43mOperatorExportTypes\u001b[49m\u001b[38;5;241;43m.\u001b[39;49m\u001b[43mONNX\u001b[49m\u001b[43m)\u001b[49m\n\u001b[1;32m     73\u001b[0m     \u001b[38;5;66;03m# Dump list of nodes (DEBUG only)\u001b[39;00m\n\u001b[1;32m     74\u001b[0m     \u001b[38;5;28;01mif\u001b[39;00m verbose:\n",
      "File \u001b[0;32m~/anaconda3/envs/pytorch/lib/python3.9/site-packages/torch/onnx/__init__.py:394\u001b[0m, in \u001b[0;36m_optimize_trace\u001b[0;34m(graph, operator_export_type)\u001b[0m\n\u001b[1;32m    391\u001b[0m \u001b[38;5;28;01mdef\u001b[39;00m \u001b[38;5;21m_optimize_trace\u001b[39m(graph, operator_export_type):\n\u001b[1;32m    392\u001b[0m     \u001b[38;5;28;01mfrom\u001b[39;00m \u001b[38;5;21;01mtorch\u001b[39;00m\u001b[38;5;21;01m.\u001b[39;00m\u001b[38;5;21;01monnx\u001b[39;00m \u001b[38;5;28;01mimport\u001b[39;00m utils\n\u001b[0;32m--> 394\u001b[0m     \u001b[38;5;28;01mreturn\u001b[39;00m \u001b[43mutils\u001b[49m\u001b[38;5;241;43m.\u001b[39;49m\u001b[43m_optimize_graph\u001b[49m\u001b[43m(\u001b[49m\u001b[43mgraph\u001b[49m\u001b[43m,\u001b[49m\u001b[43m \u001b[49m\u001b[43moperator_export_type\u001b[49m\u001b[43m)\u001b[49m\n",
      "File \u001b[0;32m~/anaconda3/envs/pytorch/lib/python3.9/site-packages/torch/onnx/utils.py:277\u001b[0m, in \u001b[0;36m_optimize_graph\u001b[0;34m(graph, operator_export_type, _disable_torch_constant_prop, fixed_batch_size, params_dict, dynamic_axes, input_names, module)\u001b[0m\n\u001b[1;32m    275\u001b[0m symbolic_helper\u001b[38;5;241m.\u001b[39m_quantized_ops\u001b[38;5;241m.\u001b[39mclear()\n\u001b[1;32m    276\u001b[0m \u001b[38;5;66;03m# Unpack quantized weights for conv and linear ops and insert into graph.\u001b[39;00m\n\u001b[0;32m--> 277\u001b[0m \u001b[43m_C\u001b[49m\u001b[38;5;241;43m.\u001b[39;49m\u001b[43m_jit_pass_onnx_unpack_quantized_weights\u001b[49m\u001b[43m(\u001b[49m\n\u001b[1;32m    278\u001b[0m \u001b[43m    \u001b[49m\u001b[43mgraph\u001b[49m\u001b[43m,\u001b[49m\u001b[43m \u001b[49m\u001b[43mparams_dict\u001b[49m\u001b[43m,\u001b[49m\u001b[43m \u001b[49m\u001b[43msymbolic_helper\u001b[49m\u001b[38;5;241;43m.\u001b[39;49m\u001b[43mis_caffe2_aten_fallback\u001b[49m\u001b[43m(\u001b[49m\u001b[43m)\u001b[49m\n\u001b[1;32m    279\u001b[0m \u001b[43m\u001b[49m\u001b[43m)\u001b[49m\n\u001b[1;32m    280\u001b[0m \u001b[38;5;28;01mif\u001b[39;00m symbolic_helper\u001b[38;5;241m.\u001b[39mis_caffe2_aten_fallback():\n\u001b[1;32m    281\u001b[0m     \u001b[38;5;66;03m# Insert permutes before and after each conv op to ensure correct order.\u001b[39;00m\n\u001b[1;32m    282\u001b[0m     _C\u001b[38;5;241m.\u001b[39m_jit_pass_onnx_quantization_insert_permutes(graph, params_dict)\n",
      "\u001b[0;31mTypeError\u001b[0m: _jit_pass_onnx_unpack_quantized_weights(): incompatible function arguments. The following argument types are supported:\n    1. (arg0: torch::jit::Graph, arg1: Dict[str, IValue], arg2: bool) -> Dict[str, IValue]\n\nInvoked with: graph(%0 : Float(10, 1, strides=[1, 1], requires_grad=0, device=cpu),\n      %1 : Float(100, 1, strides=[1, 1], requires_grad=1, device=cpu),\n      %2 : Float(100, strides=[1], requires_grad=1, device=cpu),\n      %3 : Float(1, 100, strides=[100, 1], requires_grad=1, device=cpu),\n      %4 : Float(1, strides=[1], requires_grad=1, device=cpu)):\n  %15 : Float(10, 100, strides=[100, 1], requires_grad=1, device=cpu) = aten::linear(%0, %1, %2) # /home/rafistark/anaconda3/envs/pytorch/lib/python3.9/site-packages/torch/nn/modules/linear.py:114:0\n  %16 : Float(10, 1, strides=[1, 1], requires_grad=1, device=cpu) = aten::linear(%15, %3, %4) # /home/rafistark/anaconda3/envs/pytorch/lib/python3.9/site-packages/torch/nn/modules/linear.py:114:0\n  return (%16)\n, None, False"
     ]
    }
   ],
   "source": [
    "# We pass in 10 data points and there is 1 feature for each data point\n",
    "hl.build_graph(model1,torch.zeros([10,1]))"
   ]
  },
  {
   "cell_type": "code",
   "execution_count": 60,
   "id": "bf7a6792-1b51-42ce-89ea-18504507acb8",
   "metadata": {},
   "outputs": [],
   "source": [
    "model2 = torch.nn.Sequential(torch.nn.Linear(inp,hid),\n",
    "                             torch.nn.Linear(hid,hid),\n",
    "                             torch.nn.Sigmoid(),\n",
    "                             torch.nn.Linear(hid,out))"
   ]
  },
  {
   "cell_type": "code",
   "execution_count": 61,
   "id": "7d3d2221-d05f-49a6-8561-9a9435e18b0c",
   "metadata": {},
   "outputs": [
    {
     "ename": "TypeError",
     "evalue": "_jit_pass_onnx_unpack_quantized_weights(): incompatible function arguments. The following argument types are supported:\n    1. (arg0: torch::jit::Graph, arg1: Dict[str, IValue], arg2: bool) -> Dict[str, IValue]\n\nInvoked with: graph(%0 : Float(10, 1, strides=[1, 1], requires_grad=0, device=cpu),\n      %1 : Float(100, 1, strides=[1, 1], requires_grad=1, device=cpu),\n      %2 : Float(100, strides=[1], requires_grad=1, device=cpu),\n      %3 : Float(100, 100, strides=[100, 1], requires_grad=1, device=cpu),\n      %4 : Float(100, strides=[1], requires_grad=1, device=cpu),\n      %5 : Float(1, 100, strides=[100, 1], requires_grad=1, device=cpu),\n      %6 : Float(1, strides=[1], requires_grad=1, device=cpu)):\n  %21 : Float(10, 100, strides=[100, 1], requires_grad=1, device=cpu) = aten::linear(%0, %1, %2) # /home/rafistark/anaconda3/envs/pytorch/lib/python3.9/site-packages/torch/nn/modules/linear.py:114:0\n  %22 : Float(10, 100, strides=[100, 1], requires_grad=1, device=cpu) = aten::linear(%21, %3, %4) # /home/rafistark/anaconda3/envs/pytorch/lib/python3.9/site-packages/torch/nn/modules/linear.py:114:0\n  %23 : Float(10, 100, strides=[100, 1], requires_grad=1, device=cpu) = aten::sigmoid(%22) # /home/rafistark/anaconda3/envs/pytorch/lib/python3.9/site-packages/torch/nn/modules/activation.py:290:0\n  %24 : Float(10, 1, strides=[1, 1], requires_grad=1, device=cpu) = aten::linear(%23, %5, %6) # /home/rafistark/anaconda3/envs/pytorch/lib/python3.9/site-packages/torch/nn/modules/linear.py:114:0\n  return (%24)\n, None, False",
     "output_type": "error",
     "traceback": [
      "\u001b[0;31m---------------------------------------------------------------------------\u001b[0m",
      "\u001b[0;31mTypeError\u001b[0m                                 Traceback (most recent call last)",
      "Input \u001b[0;32mIn [61]\u001b[0m, in \u001b[0;36m<cell line: 1>\u001b[0;34m()\u001b[0m\n\u001b[0;32m----> 1\u001b[0m \u001b[43mhl\u001b[49m\u001b[38;5;241;43m.\u001b[39;49m\u001b[43mbuild_graph\u001b[49m\u001b[43m(\u001b[49m\u001b[43mmodel2\u001b[49m\u001b[43m \u001b[49m\u001b[43m,\u001b[49m\u001b[43m \u001b[49m\u001b[43mtorch\u001b[49m\u001b[38;5;241;43m.\u001b[39;49m\u001b[43mzeros\u001b[49m\u001b[43m(\u001b[49m\u001b[43m[\u001b[49m\u001b[38;5;241;43m10\u001b[39;49m\u001b[43m,\u001b[49m\u001b[38;5;241;43m1\u001b[39;49m\u001b[43m]\u001b[49m\u001b[43m)\u001b[49m\u001b[43m)\u001b[49m\n",
      "File \u001b[0;32m~/anaconda3/envs/pytorch/lib/python3.9/site-packages/hiddenlayer/graph.py:143\u001b[0m, in \u001b[0;36mbuild_graph\u001b[0;34m(model, args, input_names, transforms, framework_transforms)\u001b[0m\n\u001b[1;32m    141\u001b[0m     \u001b[38;5;28;01mfrom\u001b[39;00m \u001b[38;5;21;01m.\u001b[39;00m\u001b[38;5;21;01mpytorch_builder\u001b[39;00m \u001b[38;5;28;01mimport\u001b[39;00m import_graph, FRAMEWORK_TRANSFORMS\n\u001b[1;32m    142\u001b[0m     \u001b[38;5;28;01massert\u001b[39;00m args \u001b[38;5;129;01mis\u001b[39;00m \u001b[38;5;129;01mnot\u001b[39;00m \u001b[38;5;28;01mNone\u001b[39;00m, \u001b[38;5;124m\"\u001b[39m\u001b[38;5;124mArgument args must be provided for Pytorch models.\u001b[39m\u001b[38;5;124m\"\u001b[39m\n\u001b[0;32m--> 143\u001b[0m     \u001b[43mimport_graph\u001b[49m\u001b[43m(\u001b[49m\u001b[43mg\u001b[49m\u001b[43m,\u001b[49m\u001b[43m \u001b[49m\u001b[43mmodel\u001b[49m\u001b[43m,\u001b[49m\u001b[43m \u001b[49m\u001b[43margs\u001b[49m\u001b[43m)\u001b[49m\n\u001b[1;32m    144\u001b[0m \u001b[38;5;28;01melif\u001b[39;00m framework \u001b[38;5;241m==\u001b[39m \u001b[38;5;124m\"\u001b[39m\u001b[38;5;124mtensorflow\u001b[39m\u001b[38;5;124m\"\u001b[39m:\n\u001b[1;32m    145\u001b[0m     \u001b[38;5;28;01mfrom\u001b[39;00m \u001b[38;5;21;01m.\u001b[39;00m\u001b[38;5;21;01mtf_builder\u001b[39;00m \u001b[38;5;28;01mimport\u001b[39;00m import_graph, FRAMEWORK_TRANSFORMS\n",
      "File \u001b[0;32m~/anaconda3/envs/pytorch/lib/python3.9/site-packages/hiddenlayer/pytorch_builder.py:71\u001b[0m, in \u001b[0;36mimport_graph\u001b[0;34m(hl_graph, model, args, input_names, verbose)\u001b[0m\n\u001b[1;32m     66\u001b[0m \u001b[38;5;28;01mdef\u001b[39;00m \u001b[38;5;21mimport_graph\u001b[39m(hl_graph, model, args, input_names\u001b[38;5;241m=\u001b[39m\u001b[38;5;28;01mNone\u001b[39;00m, verbose\u001b[38;5;241m=\u001b[39m\u001b[38;5;28;01mFalse\u001b[39;00m):\n\u001b[1;32m     67\u001b[0m     \u001b[38;5;66;03m# TODO: add input names to graph\u001b[39;00m\n\u001b[1;32m     68\u001b[0m \n\u001b[1;32m     69\u001b[0m     \u001b[38;5;66;03m# Run the Pytorch graph to get a trace and generate a graph from it\u001b[39;00m\n\u001b[1;32m     70\u001b[0m     trace, out \u001b[38;5;241m=\u001b[39m torch\u001b[38;5;241m.\u001b[39mjit\u001b[38;5;241m.\u001b[39m_get_trace_graph(model, args)\n\u001b[0;32m---> 71\u001b[0m     torch_graph \u001b[38;5;241m=\u001b[39m \u001b[43mtorch\u001b[49m\u001b[38;5;241;43m.\u001b[39;49m\u001b[43monnx\u001b[49m\u001b[38;5;241;43m.\u001b[39;49m\u001b[43m_optimize_trace\u001b[49m\u001b[43m(\u001b[49m\u001b[43mtrace\u001b[49m\u001b[43m,\u001b[49m\u001b[43m \u001b[49m\u001b[43mtorch\u001b[49m\u001b[38;5;241;43m.\u001b[39;49m\u001b[43monnx\u001b[49m\u001b[38;5;241;43m.\u001b[39;49m\u001b[43mOperatorExportTypes\u001b[49m\u001b[38;5;241;43m.\u001b[39;49m\u001b[43mONNX\u001b[49m\u001b[43m)\u001b[49m\n\u001b[1;32m     73\u001b[0m     \u001b[38;5;66;03m# Dump list of nodes (DEBUG only)\u001b[39;00m\n\u001b[1;32m     74\u001b[0m     \u001b[38;5;28;01mif\u001b[39;00m verbose:\n",
      "File \u001b[0;32m~/anaconda3/envs/pytorch/lib/python3.9/site-packages/torch/onnx/__init__.py:394\u001b[0m, in \u001b[0;36m_optimize_trace\u001b[0;34m(graph, operator_export_type)\u001b[0m\n\u001b[1;32m    391\u001b[0m \u001b[38;5;28;01mdef\u001b[39;00m \u001b[38;5;21m_optimize_trace\u001b[39m(graph, operator_export_type):\n\u001b[1;32m    392\u001b[0m     \u001b[38;5;28;01mfrom\u001b[39;00m \u001b[38;5;21;01mtorch\u001b[39;00m\u001b[38;5;21;01m.\u001b[39;00m\u001b[38;5;21;01monnx\u001b[39;00m \u001b[38;5;28;01mimport\u001b[39;00m utils\n\u001b[0;32m--> 394\u001b[0m     \u001b[38;5;28;01mreturn\u001b[39;00m \u001b[43mutils\u001b[49m\u001b[38;5;241;43m.\u001b[39;49m\u001b[43m_optimize_graph\u001b[49m\u001b[43m(\u001b[49m\u001b[43mgraph\u001b[49m\u001b[43m,\u001b[49m\u001b[43m \u001b[49m\u001b[43moperator_export_type\u001b[49m\u001b[43m)\u001b[49m\n",
      "File \u001b[0;32m~/anaconda3/envs/pytorch/lib/python3.9/site-packages/torch/onnx/utils.py:277\u001b[0m, in \u001b[0;36m_optimize_graph\u001b[0;34m(graph, operator_export_type, _disable_torch_constant_prop, fixed_batch_size, params_dict, dynamic_axes, input_names, module)\u001b[0m\n\u001b[1;32m    275\u001b[0m symbolic_helper\u001b[38;5;241m.\u001b[39m_quantized_ops\u001b[38;5;241m.\u001b[39mclear()\n\u001b[1;32m    276\u001b[0m \u001b[38;5;66;03m# Unpack quantized weights for conv and linear ops and insert into graph.\u001b[39;00m\n\u001b[0;32m--> 277\u001b[0m \u001b[43m_C\u001b[49m\u001b[38;5;241;43m.\u001b[39;49m\u001b[43m_jit_pass_onnx_unpack_quantized_weights\u001b[49m\u001b[43m(\u001b[49m\n\u001b[1;32m    278\u001b[0m \u001b[43m    \u001b[49m\u001b[43mgraph\u001b[49m\u001b[43m,\u001b[49m\u001b[43m \u001b[49m\u001b[43mparams_dict\u001b[49m\u001b[43m,\u001b[49m\u001b[43m \u001b[49m\u001b[43msymbolic_helper\u001b[49m\u001b[38;5;241;43m.\u001b[39;49m\u001b[43mis_caffe2_aten_fallback\u001b[49m\u001b[43m(\u001b[49m\u001b[43m)\u001b[49m\n\u001b[1;32m    279\u001b[0m \u001b[43m\u001b[49m\u001b[43m)\u001b[49m\n\u001b[1;32m    280\u001b[0m \u001b[38;5;28;01mif\u001b[39;00m symbolic_helper\u001b[38;5;241m.\u001b[39mis_caffe2_aten_fallback():\n\u001b[1;32m    281\u001b[0m     \u001b[38;5;66;03m# Insert permutes before and after each conv op to ensure correct order.\u001b[39;00m\n\u001b[1;32m    282\u001b[0m     _C\u001b[38;5;241m.\u001b[39m_jit_pass_onnx_quantization_insert_permutes(graph, params_dict)\n",
      "\u001b[0;31mTypeError\u001b[0m: _jit_pass_onnx_unpack_quantized_weights(): incompatible function arguments. The following argument types are supported:\n    1. (arg0: torch::jit::Graph, arg1: Dict[str, IValue], arg2: bool) -> Dict[str, IValue]\n\nInvoked with: graph(%0 : Float(10, 1, strides=[1, 1], requires_grad=0, device=cpu),\n      %1 : Float(100, 1, strides=[1, 1], requires_grad=1, device=cpu),\n      %2 : Float(100, strides=[1], requires_grad=1, device=cpu),\n      %3 : Float(100, 100, strides=[100, 1], requires_grad=1, device=cpu),\n      %4 : Float(100, strides=[1], requires_grad=1, device=cpu),\n      %5 : Float(1, 100, strides=[100, 1], requires_grad=1, device=cpu),\n      %6 : Float(1, strides=[1], requires_grad=1, device=cpu)):\n  %21 : Float(10, 100, strides=[100, 1], requires_grad=1, device=cpu) = aten::linear(%0, %1, %2) # /home/rafistark/anaconda3/envs/pytorch/lib/python3.9/site-packages/torch/nn/modules/linear.py:114:0\n  %22 : Float(10, 100, strides=[100, 1], requires_grad=1, device=cpu) = aten::linear(%21, %3, %4) # /home/rafistark/anaconda3/envs/pytorch/lib/python3.9/site-packages/torch/nn/modules/linear.py:114:0\n  %23 : Float(10, 100, strides=[100, 1], requires_grad=1, device=cpu) = aten::sigmoid(%22) # /home/rafistark/anaconda3/envs/pytorch/lib/python3.9/site-packages/torch/nn/modules/activation.py:290:0\n  %24 : Float(10, 1, strides=[1, 1], requires_grad=1, device=cpu) = aten::linear(%23, %5, %6) # /home/rafistark/anaconda3/envs/pytorch/lib/python3.9/site-packages/torch/nn/modules/linear.py:114:0\n  return (%24)\n, None, False"
     ]
    }
   ],
   "source": [
    "hl.build_graph(model2 , torch.zeros([10,1]))"
   ]
  },
  {
   "cell_type": "code",
   "execution_count": 62,
   "id": "04e70732-f724-4c92-b559-38ebaa448c6b",
   "metadata": {},
   "outputs": [
    {
     "name": "stderr",
     "output_type": "stream",
     "text": [
      "/home/rafistark/anaconda3/envs/pytorch/lib/python3.9/site-packages/scipy/__init__.py:146: UserWarning: A NumPy version >=1.16.5 and <1.23.0 is required for this version of SciPy (detected version 1.23.1\n",
      "  warnings.warn(f\"A NumPy version >={np_minversion} and <{np_maxversion}\"\n"
     ]
    }
   ],
   "source": [
    "from torch.utils.tensorboard import SummaryWriter\n",
    "\n",
    "# default `log_dir` is \"runs\" - we'll be more specific here\n",
    "writer = SummaryWriter('runs/pytorch')"
   ]
  },
  {
   "cell_type": "code",
   "execution_count": 64,
   "id": "8152b8b1-334b-4c3e-8cf4-00ca5413fddf",
   "metadata": {},
   "outputs": [
    {
     "ename": "SyntaxError",
     "evalue": "invalid syntax (2505290755.py, line 1)",
     "output_type": "error",
     "traceback": [
      "\u001b[0;36m  Input \u001b[0;32mIn [64]\u001b[0;36m\u001b[0m\n\u001b[0;31m    tensorboard --logdir logs\u001b[0m\n\u001b[0m                         ^\u001b[0m\n\u001b[0;31mSyntaxError\u001b[0m\u001b[0;31m:\u001b[0m invalid syntax\n"
     ]
    }
   ],
   "source": [
    "tensorboard --logdir logs"
   ]
  },
  {
   "cell_type": "code",
   "execution_count": null,
   "id": "d219c19d-0ad1-4779-afe7-42d8cc3cd700",
   "metadata": {},
   "outputs": [],
   "source": []
  }
 ],
 "metadata": {
  "kernelspec": {
   "display_name": "pytorch",
   "language": "python",
   "name": "pytorch"
  },
  "language_info": {
   "codemirror_mode": {
    "name": "ipython",
    "version": 3
   },
   "file_extension": ".py",
   "mimetype": "text/x-python",
   "name": "python",
   "nbconvert_exporter": "python",
   "pygments_lexer": "ipython3",
   "version": "3.9.12"
  }
 },
 "nbformat": 4,
 "nbformat_minor": 5
}
