{
  "cells": [
    {
      "cell_type": "markdown",
      "metadata": {
        "id": "view-in-github",
        "colab_type": "text"
      },
      "source": [
        "<a href=\"https://colab.research.google.com/github/rafism1997/Pytorch_Dev/blob/main/PytorchTensors.ipynb\" target=\"_parent\"><img src=\"https://colab.research.google.com/assets/colab-badge.svg\" alt=\"Open In Colab\"/></a>"
      ]
    },
    {
      "cell_type": "code",
      "execution_count": null,
      "metadata": {
        "id": "-cvVUmXWLhdc"
      },
      "outputs": [],
      "source": [
        "import torch "
      ]
    },
    {
      "cell_type": "code",
      "execution_count": null,
      "metadata": {
        "colab": {
          "base_uri": "https://localhost:8080/"
        },
        "id": "zL8wui0foo6h",
        "outputId": "fb8e677a-736a-4599-a767-837b3d2b4b4c"
      },
      "outputs": [
        {
          "name": "stdout",
          "output_type": "stream",
          "text": [
            "1.12.1+cu113\n"
          ]
        }
      ],
      "source": [
        "print(torch.__version__)"
      ]
    },
    {
      "cell_type": "code",
      "execution_count": null,
      "metadata": {
        "colab": {
          "base_uri": "https://localhost:8080/"
        },
        "id": "uikojqg3oxIB",
        "outputId": "c6423ec9-ca4b-4521-b552-7fcc55a8bf2f"
      },
      "outputs": [
        {
          "data": {
            "text/plain": [
              "torch.float32"
            ]
          },
          "execution_count": 3,
          "metadata": {},
          "output_type": "execute_result"
        }
      ],
      "source": [
        "torch.get_default_dtype()\n",
        "#Only floating points are supported  as the default type"
      ]
    },
    {
      "cell_type": "code",
      "execution_count": null,
      "metadata": {
        "colab": {
          "base_uri": "https://localhost:8080/",
          "height": 287
        },
        "id": "u06st1VFo8FD",
        "outputId": "00e491db-873c-405d-9337-a98b8c7c2977"
      },
      "outputs": [
        {
          "ename": "TypeError",
          "evalue": "ignored",
          "output_type": "error",
          "traceback": [
            "\u001b[0;31m---------------------------------------------------------------------------\u001b[0m",
            "\u001b[0;31mTypeError\u001b[0m                                 Traceback (most recent call last)",
            "\u001b[0;32m<ipython-input-4-52038df6b50f>\u001b[0m in \u001b[0;36m<module>\u001b[0;34m\u001b[0m\n\u001b[0;32m----> 1\u001b[0;31m \u001b[0mtorch\u001b[0m\u001b[0;34m.\u001b[0m\u001b[0mset_default_dtype\u001b[0m\u001b[0;34m(\u001b[0m\u001b[0mtorch\u001b[0m\u001b[0;34m.\u001b[0m\u001b[0mint\u001b[0m\u001b[0;34m)\u001b[0m\u001b[0;34m\u001b[0m\u001b[0;34m\u001b[0m\u001b[0m\n\u001b[0m",
            "\u001b[0;32m/usr/local/lib/python3.7/dist-packages/torch/__init__.py\u001b[0m in \u001b[0;36mset_default_dtype\u001b[0;34m(d)\u001b[0m\n\u001b[1;32m    375\u001b[0m \u001b[0;34m\u001b[0m\u001b[0m\n\u001b[1;32m    376\u001b[0m     \"\"\"\n\u001b[0;32m--> 377\u001b[0;31m     \u001b[0m_C\u001b[0m\u001b[0;34m.\u001b[0m\u001b[0m_set_default_dtype\u001b[0m\u001b[0;34m(\u001b[0m\u001b[0md\u001b[0m\u001b[0;34m)\u001b[0m\u001b[0;34m\u001b[0m\u001b[0;34m\u001b[0m\u001b[0m\n\u001b[0m\u001b[1;32m    378\u001b[0m \u001b[0;34m\u001b[0m\u001b[0m\n\u001b[1;32m    379\u001b[0m \u001b[0;32mdef\u001b[0m \u001b[0muse_deterministic_algorithms\u001b[0m\u001b[0;34m(\u001b[0m\u001b[0mmode\u001b[0m\u001b[0;34m,\u001b[0m \u001b[0;34m*\u001b[0m\u001b[0;34m,\u001b[0m \u001b[0mwarn_only\u001b[0m\u001b[0;34m=\u001b[0m\u001b[0;32mFalse\u001b[0m\u001b[0;34m)\u001b[0m\u001b[0;34m:\u001b[0m\u001b[0;34m\u001b[0m\u001b[0;34m\u001b[0m\u001b[0m\n",
            "\u001b[0;31mTypeError\u001b[0m: only floating-point types are supported as the default type"
          ]
        }
      ],
      "source": [
        "torch.set_default_dtype(torch.int)"
      ]
    },
    {
      "cell_type": "code",
      "execution_count": null,
      "metadata": {
        "id": "T7379U_ApRkx"
      },
      "outputs": [],
      "source": [
        "torch.set_default_dtype(torch.float64)"
      ]
    },
    {
      "cell_type": "code",
      "execution_count": null,
      "metadata": {
        "id": "n_1eck75pfI7"
      },
      "outputs": [],
      "source": [
        "torch.get_default_dtype()\n",
        "\n"
      ]
    },
    {
      "cell_type": "markdown",
      "metadata": {
        "id": "GD1QjczYps5M"
      },
      "source": [
        "Pytorch supports a total of 8 cpu tensor types and 8 gpu tensor type."
      ]
    },
    {
      "cell_type": "code",
      "execution_count": null,
      "metadata": {
        "id": "XVo4yUiGpj0k"
      },
      "outputs": [],
      "source": [
        "tensor_arr = torch.Tensor([[1,2,3],[4,5,6]])\n",
        "tensor_arr"
      ]
    },
    {
      "cell_type": "code",
      "execution_count": null,
      "metadata": {
        "id": "qiNlF3eTqNdl"
      },
      "outputs": [],
      "source": [
        "torch.is_tensor(tensor_arr)"
      ]
    },
    {
      "cell_type": "code",
      "execution_count": null,
      "metadata": {
        "id": "If2JBuObqRmT"
      },
      "outputs": [],
      "source": [
        "#In order to find out the number of elements in a tensor, we can use the numel function\n",
        "torch.numel(tensor_arr)"
      ]
    },
    {
      "cell_type": "code",
      "execution_count": null,
      "metadata": {
        "id": "4ptTZ8Xvql93"
      },
      "outputs": [],
      "source": [
        "tensor_uninintialized = torch.Tensor(3,4)\n",
        "#if only indicate the shape of the tensor , the resulting tensor object will be uninitialized , pytorch will allocate the memory for the tensor\n",
        "# but wil not assign any value(random values will be assigned)"
      ]
    },
    {
      "cell_type": "code",
      "execution_count": null,
      "metadata": {
        "id": "3cbxf2BPq963"
      },
      "outputs": [],
      "source": [
        "tensor_uninintialized\n"
      ]
    },
    {
      "cell_type": "code",
      "execution_count": null,
      "metadata": {
        "id": "IY6W4sZrrBFA"
      },
      "outputs": [],
      "source": [
        "torch_initialized = torch.rand(2,2)"
      ]
    },
    {
      "cell_type": "code",
      "execution_count": null,
      "metadata": {
        "id": "E9g72aHVrpIT"
      },
      "outputs": [],
      "source": [
        "torch_initialized"
      ]
    },
    {
      "cell_type": "markdown",
      "metadata": {
        "id": "9l25GEN4rxXF"
      },
      "source": [
        "Creation of a tensor using a specific type "
      ]
    },
    {
      "cell_type": "code",
      "execution_count": null,
      "metadata": {
        "id": "aP4gVoa4rql_"
      },
      "outputs": [],
      "source": [
        "tensor_int =torch.tensor([5,3]).type(torch.IntTensor)\n",
        "tensor_int\n",
        "#If we are creating tensors on a GPU the tensor types will be specified using different classes\n",
        "#torch.Cuda.IntTensor"
      ]
    },
    {
      "cell_type": "code",
      "execution_count": null,
      "metadata": {
        "id": "3DMjat18r8iy"
      },
      "outputs": [],
      "source": [
        "#torch.ShortTensor will create a tensor of int16 objects(16 bit integers)\n",
        "\n",
        "tensor_short =torch.ShortTensor([1.0,2.0,3.0])\n",
        "tensor_short"
      ]
    },
    {
      "cell_type": "code",
      "execution_count": null,
      "metadata": {
        "id": "khbvGpAQsono"
      },
      "outputs": [],
      "source": [
        "tensor_float =torch.tensor([1.0,2.0,3.0]).type(torch.half)\n",
        "tensor_float"
      ]
    },
    {
      "cell_type": "markdown",
      "metadata": {
        "id": "fe5Sp7fItEt4"
      },
      "source": [
        "To fill a tensor with values "
      ]
    },
    {
      "cell_type": "code",
      "execution_count": null,
      "metadata": {
        "id": "4yoNxItBtJDl"
      },
      "outputs": [],
      "source": [
        "tensor_fill =torch.full((2,6),fill_value=10)\n",
        "tensor_fill"
      ]
    },
    {
      "cell_type": "code",
      "execution_count": null,
      "metadata": {
        "id": "z2KF_LZBtSfQ"
      },
      "outputs": [],
      "source": [
        "tensor_of_ones=torch.ones([2,4], dtype=torch.int32)\n",
        "tensor_of_ones"
      ]
    },
    {
      "cell_type": "code",
      "execution_count": null,
      "metadata": {
        "id": "zF3u1fl1tj85"
      },
      "outputs": [],
      "source": [
        "#Duplication of created tensors using previously created tensor (using _like function)\n",
        "tensor_of_zeros = torch.zeros_like(tensor_of_ones)\n",
        "tensor_of_zeros"
      ]
    },
    {
      "cell_type": "code",
      "execution_count": null,
      "metadata": {
        "id": "kvNDBRk0H70u"
      },
      "outputs": [],
      "source": [
        "tensor_eye = torch.eye(5)\n",
        "tensor_eye"
      ]
    },
    {
      "cell_type": "code",
      "execution_count": null,
      "metadata": {
        "id": "vTkCG1WWJA5Y"
      },
      "outputs": [],
      "source": [
        "#To find out the non zero elements in the tensor \n",
        "non_zero = torch.nonzero(tensor_eye)\n",
        "non_zero"
      ]
    },
    {
      "cell_type": "code",
      "execution_count": null,
      "metadata": {
        "id": "paqM102uJNzq"
      },
      "outputs": [],
      "source": [
        "#torch.tensor() always makes a copy of the underlying data of the tensor\n",
        "i = torch.tensor([[0,1,1],[2,2,0]])\n"
      ]
    },
    {
      "cell_type": "code",
      "execution_count": null,
      "metadata": {
        "id": "pCkDJV7mJqDY"
      },
      "outputs": [],
      "source": [
        "# We have so far constructed only dense tensors(all of the elements have non-zero values) but there are also another type of tensors called the sparse tensors.\n",
        "v = torch.tensor([3,4,5],dtype=torch.float32)"
      ]
    },
    {
      "cell_type": "code",
      "execution_count": null,
      "metadata": {
        "id": "FWqUrSVnKFE5"
      },
      "outputs": [],
      "source": [
        "sparse_tensor = torch.sparse_coo_tensor(i,v,[2,5])\n",
        "#Constructs a sparse tensor in coordinate format with non-zero elements at indices with the given values"
      ]
    },
    {
      "cell_type": "markdown",
      "metadata": {
        "id": "iSxtJzXTKuxv"
      },
      "source": [
        "\n",
        "The sparse_coo_tensor_function constructs a sparse tensor in coordinate format\n",
        "\n"
      ]
    },
    {
      "cell_type": "code",
      "execution_count": null,
      "metadata": {
        "id": "bNbxaxzAKWOV"
      },
      "outputs": [],
      "source": [
        "sparse_tensor.data"
      ]
    },
    {
      "cell_type": "code",
      "execution_count": null,
      "metadata": {
        "colab": {
          "background_save": true
        },
        "id": "1GfbzrfOLcpe"
      },
      "outputs": [],
      "source": [
        "initial_tensor = torch.rand(2,3)\n",
        "initial_tensor"
      ]
    },
    {
      "cell_type": "markdown",
      "metadata": {
        "id": "VHZZDmv-MYZe"
      },
      "source": [
        "Operations that modify the tensor in-place have an \"_\" suffix"
      ]
    },
    {
      "cell_type": "code",
      "execution_count": null,
      "metadata": {
        "colab": {
          "background_save": true
        },
        "id": "EGliK5tfMTki"
      },
      "outputs": [],
      "source": [
        "initial_tensor.fill_(10)"
      ]
    },
    {
      "cell_type": "code",
      "execution_count": null,
      "metadata": {
        "colab": {
          "background_save": true
        },
        "id": "kUzUK71-MlmF"
      },
      "outputs": [],
      "source": [
        "new_tensor= initial_tensor.add(5)\n",
        "new_tensor"
      ]
    },
    {
      "cell_type": "code",
      "execution_count": null,
      "metadata": {
        "colab": {
          "background_save": true
        },
        "id": "Bk4M0DLkM38L"
      },
      "outputs": [],
      "source": [
        "initial_tensor"
      ]
    },
    {
      "cell_type": "code",
      "execution_count": null,
      "metadata": {
        "colab": {
          "background_save": true
        },
        "id": "B3QcqJ9hM-jE"
      },
      "outputs": [],
      "source": [
        "initial_tensor.add_(8)\n",
        "initial_tensor"
      ]
    },
    {
      "cell_type": "markdown",
      "metadata": {
        "id": "nVpSBUYcNFRJ"
      },
      "source": [
        "Add_ is an in place operation, initial_tensor itself has been modified"
      ]
    },
    {
      "cell_type": "code",
      "execution_count": null,
      "metadata": {
        "colab": {
          "background_save": true
        },
        "id": "D08czG53ND93"
      },
      "outputs": [],
      "source": [
        "new_tensor"
      ]
    },
    {
      "cell_type": "code",
      "execution_count": null,
      "metadata": {
        "colab": {
          "background_save": true
        },
        "id": "pbMDFW0TNRUE"
      },
      "outputs": [],
      "source": [
        "new_tensor.sqrt_()"
      ]
    },
    {
      "cell_type": "markdown",
      "metadata": {
        "id": "R7JRAKlONZP-"
      },
      "source": [
        ""
      ]
    },
    {
      "cell_type": "markdown",
      "metadata": {
        "id": "oiLElI2ZNZb3"
      },
      "source": [
        "Number of operations which are very similar to NumPy are available with torch tensors as well, such as torch.linspace will generate evenly spaced numbers between the range specified"
      ]
    },
    {
      "cell_type": "code",
      "execution_count": null,
      "metadata": {
        "colab": {
          "background_save": true
        },
        "id": "ngEC4SRvNVPK"
      },
      "outputs": [],
      "source": [
        "x = torch.linspace(start=0.1 , end=19.0,steps=15)\n",
        "x"
      ]
    },
    {
      "cell_type": "code",
      "execution_count": null,
      "metadata": {
        "colab": {
          "background_save": true
        },
        "id": "BFTMWX4sORIm"
      },
      "outputs": [],
      "source": [
        "#torch.chunk to chunk our x tensor into three seperate parts \n",
        "tensor_chunk = torch.chunk(x,3,0)\n",
        "tensor_chunk"
      ]
    },
    {
      "cell_type": "code",
      "execution_count": null,
      "metadata": {
        "colab": {
          "background_save": true
        },
        "id": "Rqhp0rZ7OhU5"
      },
      "outputs": [],
      "source": [
        "#for concatenation\n",
        "tensor1 = tensor_chunk[0]\n",
        "tensor2 = tensor_chunk[1]\n",
        "tensor3 = torch.tensor([3.0,4.0,5.0])\n",
        "\n",
        "torch.cat((tensor1,tensor2,tensor3),0)# o is the dimension in which we want to concatenate\n",
        "#All dimensions must have the same shape except for the concatenating dimension"
      ]
    },
    {
      "cell_type": "code",
      "execution_count": null,
      "metadata": {
        "colab": {
          "background_save": true
        },
        "id": "sPJRUewhPB5L"
      },
      "outputs": [],
      "source": [
        "random_tensor = torch.randn(3,3)\n",
        "random_tensor"
      ]
    },
    {
      "cell_type": "code",
      "execution_count": null,
      "metadata": {
        "colab": {
          "background_save": true
        },
        "id": "0Yj6FN28Pktm"
      },
      "outputs": [],
      "source": [
        "random_tensor[0,1] #indexing into a pytorch tensor gives us a tensor as the result"
      ]
    },
    {
      "cell_type": "code",
      "execution_count": null,
      "metadata": {
        "colab": {
          "background_save": true
        },
        "id": "tLxejFmkPth3"
      },
      "outputs": [],
      "source": [
        "#We can also use tensors with array slicing operations as you would with NumPy\n",
        "#random_tensor[1:,1:]\n",
        "random_tensor[0:,2:]"
      ]
    },
    {
      "cell_type": "code",
      "execution_count": null,
      "metadata": {
        "id": "NyKbhhV_QPJC"
      },
      "outputs": [],
      "source": [
        "#to check the size of the tensor \n",
        "random_tensor.size()"
      ]
    },
    {
      "cell_type": "code",
      "execution_count": null,
      "metadata": {
        "id": "RuKhXlJVQmtb"
      },
      "outputs": [],
      "source": [
        "resized_tensor = random_tensor.view(9)\n",
        "resized_tensor "
      ]
    },
    {
      "cell_type": "code",
      "execution_count": null,
      "metadata": {
        "id": "6rS6My4vQ3i6"
      },
      "outputs": [],
      "source": [
        "resized_tensor.size()"
      ]
    },
    {
      "cell_type": "code",
      "execution_count": null,
      "metadata": {
        "id": "8dxGKJL6RJVX"
      },
      "outputs": [],
      "source": [
        "random_tensor[2,2] = 100.0\n",
        "resized_tensor"
      ]
    },
    {
      "cell_type": "code",
      "execution_count": null,
      "metadata": {
        "id": "tDIwqzH2RW8i"
      },
      "outputs": [],
      "source": [
        "random_tensor"
      ]
    },
    {
      "cell_type": "code",
      "execution_count": null,
      "metadata": {
        "id": "J7K009x7ReDp"
      },
      "outputs": [],
      "source": [
        "random_tensor.shape"
      ]
    },
    {
      "cell_type": "markdown",
      "metadata": {
        "id": "ZuVazb9BRrlO"
      },
      "source": [
        "We can change the shape of a tensor by removing and adding dimensions using the squeeze and unsqueeze operations."
      ]
    },
    {
      "cell_type": "code",
      "execution_count": null,
      "metadata": {
        "id": "-ikLD57PRlBC"
      },
      "outputs": [],
      "source": [
        "tensor_unsqueeze = torch.unsqueeze(random_tensor , 2)\n",
        "tensor_unsqueeze"
      ]
    },
    {
      "cell_type": "code",
      "execution_count": null,
      "metadata": {
        "id": "wSwbq9_ZR8mB"
      },
      "outputs": [],
      "source": [
        "tensor_unsqueeze.shape"
      ]
    },
    {
      "cell_type": "code",
      "execution_count": null,
      "metadata": {
        "id": "rNABB_MBSQLV"
      },
      "outputs": [],
      "source": [
        "#Transpose operation will allow us to flip dimensions in this tensor\n",
        "tensor_transpose = torch.transpose(initial_tensor,0,1)\n",
        "tensor_transpose\n",
        "# 3 by 2 tensor changed to 2 by 3 tensor"
      ]
    },
    {
      "cell_type": "markdown",
      "metadata": {
        "id": "MPDR27YIUJX1"
      },
      "source": [
        "# Elementwise and Matrix Operations on Tensors"
      ]
    },
    {
      "cell_type": "code",
      "execution_count": null,
      "metadata": {
        "id": "fTPqCd_xS0eX"
      },
      "outputs": [],
      "source": [
        "random_tensor"
      ]
    },
    {
      "cell_type": "code",
      "execution_count": null,
      "metadata": {
        "id": "gfpSjTlFUTUx"
      },
      "outputs": [],
      "source": [
        "sorted_tensor , sorted_indices = torch.sort(random_tensor)"
      ]
    },
    {
      "cell_type": "code",
      "execution_count": null,
      "metadata": {
        "id": "E7Hbu3u3Uft6"
      },
      "outputs": [],
      "source": [
        "sorted_tensor"
      ]
    },
    {
      "cell_type": "code",
      "execution_count": null,
      "metadata": {
        "id": "mZmygGCyUqo3"
      },
      "outputs": [],
      "source": [
        "sorted_indices"
      ]
    },
    {
      "cell_type": "code",
      "execution_count": null,
      "metadata": {
        "id": "2oW-vaRQU1aN"
      },
      "outputs": [],
      "source": [
        "tensor_float = torch.FloatTensor([-1.1,-2.2,3.3])\n",
        "tensor_float"
      ]
    },
    {
      "cell_type": "code",
      "execution_count": null,
      "metadata": {
        "id": "J470vMqdVJSE"
      },
      "outputs": [],
      "source": [
        "tensor_abs = torch.abs(tensor_float)\n",
        "tensor_abs"
      ]
    },
    {
      "cell_type": "code",
      "execution_count": null,
      "metadata": {
        "id": "zsB4nUAGVSzb"
      },
      "outputs": [],
      "source": [
        "rand1 = torch.abs(torch.randn(2,3))\n",
        "rand1\n",
        "rand2 = torch.abs(torch.randn(2,3))\n",
        "rand2"
      ]
    },
    {
      "cell_type": "code",
      "execution_count": null,
      "metadata": {
        "id": "4zjxToKLVlUX"
      },
      "outputs": [],
      "source": [
        "add = rand1 + rand2\n",
        "add"
      ]
    },
    {
      "cell_type": "code",
      "execution_count": null,
      "metadata": {
        "id": "Caww1HNcVsmC"
      },
      "outputs": [],
      "source": [
        "# torch functions are available for all kinds of mathematical funcitons\n",
        "add2 = torch.add(rand1,rand2)\n",
        "add2"
      ]
    },
    {
      "cell_type": "code",
      "execution_count": null,
      "metadata": {
        "id": "WsuAGv-lV_-E"
      },
      "outputs": [],
      "source": [
        "tensor = torch.Tensor([[-1,-2,-3],\n",
        "                      [1 ,2 ,3 ]])\n"
      ]
    },
    {
      "cell_type": "code",
      "execution_count": null,
      "metadata": {
        "id": "ERrWATyKWUmx"
      },
      "outputs": [],
      "source": [
        "tensor_div =torch.div(tensor , tensor + 0.3)\n",
        "tensor_div"
      ]
    },
    {
      "cell_type": "code",
      "execution_count": null,
      "metadata": {
        "id": "0mfQTEUoWeUH"
      },
      "outputs": [],
      "source": [
        "#Elementwise multiplication \n",
        "tensor_mul = torch.mul(tensor,tensor)\n",
        "tensor_mul"
      ]
    },
    {
      "cell_type": "code",
      "execution_count": null,
      "metadata": {
        "id": "r0BGlmL-Wte0"
      },
      "outputs": [],
      "source": [
        "#torch.clamp allows us to clamp our tensors "
      ]
    },
    {
      "cell_type": "markdown",
      "metadata": {
        "id": "KrF4wtYzW5eW"
      },
      "source": [
        "**torch.clamp allows us to clamp our tensors values within a certain min and max range**"
      ]
    },
    {
      "cell_type": "code",
      "execution_count": null,
      "metadata": {
        "id": "Nr8gE0oEXHiP"
      },
      "outputs": [],
      "source": [
        "tensor_clamp =torch.clamp(tensor, min= 0.2, max=2)\n",
        "tensor_clamp"
      ]
    },
    {
      "cell_type": "code",
      "execution_count": null,
      "metadata": {
        "id": "6J7RvWzNXQig"
      },
      "outputs": [],
      "source": [
        "# to calculate the dot product of two matrices \n",
        "t1 = torch.Tensor([1,2])\n",
        "t2 = torch.Tensor([10,20])"
      ]
    },
    {
      "cell_type": "code",
      "execution_count": null,
      "metadata": {
        "id": "MfQDUE5tXlOS"
      },
      "outputs": [],
      "source": [
        "dot_product =torch.dot(t1,t2)\n",
        "dot_product"
      ]
    },
    {
      "cell_type": "code",
      "execution_count": null,
      "metadata": {
        "id": "Mb0fsEZMXsQJ"
      },
      "outputs": [],
      "source": [
        "matrix = torch.Tensor([[1,2,3],\n",
        "                       [4,5,6]])\n",
        "vector = torch.Tensor([0,1,2])"
      ]
    },
    {
      "cell_type": "code",
      "execution_count": null,
      "metadata": {
        "id": "btij6It9X_g4"
      },
      "outputs": [],
      "source": [
        "matrix_vector = torch.mv(matrix,vector)\n",
        "matrix_vector"
      ]
    },
    {
      "cell_type": "code",
      "execution_count": null,
      "metadata": {
        "id": "TnBCrVLKYGdh"
      },
      "outputs": [],
      "source": [
        "torch.argmax(matrix,dim=1) # maximum value in the matrix "
      ]
    },
    {
      "cell_type": "code",
      "execution_count": null,
      "metadata": {
        "id": "4i0w29O0YW9-"
      },
      "outputs": [],
      "source": [
        "#minimum value in the matrix \n",
        "torch.argmin(matrix,dim=1)"
      ]
    },
    {
      "cell_type": "code",
      "execution_count": null,
      "metadata": {
        "id": "iEDLsaObYm-k"
      },
      "outputs": [],
      "source": [
        ""
      ]
    }
  ],
  "metadata": {
    "colab": {
      "collapsed_sections": [],
      "name": "PytorchTensors.ipynb",
      "provenance": [],
      "authorship_tag": "ABX9TyOLTrCTg5kvs/R7Mxq/VzkC",
      "include_colab_link": true
    },
    "kernelspec": {
      "display_name": "Python 3",
      "name": "python3"
    },
    "language_info": {
      "name": "python"
    }
  },
  "nbformat": 4,
  "nbformat_minor": 0
}